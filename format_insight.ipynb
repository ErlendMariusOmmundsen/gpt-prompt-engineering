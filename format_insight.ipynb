{
  "cells": [
    {
      "cell_type": "code",
      "source": [
        "import pandas as pd\r\n",
        "import numpy as np\r\n",
        "from insight_utils import bar_groups_chart, line_plot_column\r\n",
        "from constants import FORMAT_MODIFIERS, LENGTH_MODIFIERS, DENSENESS_MODIFIERS, QUALITY_MODIFIERS, STRUCTURE_MODIFIERS\r\n",
        "\r\n",
        "modifiers_path = \"results/modifiers/gpt-3.5-turbo-16k/\"\r\n",
        "baseline_df = pd.read_csv(\"results/gpt4/baseline.csv\")\r\n",
        "format_df = pd.read_csv(modifiers_path + \"format.csv\")\r\n",
        "# length_df = pd.read_csv(modifiers_path + \"length.csv\")\r\n",
        "# denseness_df = pd.read_csv(modifiers_path + \"denseness.csv\")\r\n",
        "# structure_df = pd.read_csv(modifiers_path + \"structure.csv\")\r\n",
        "# quality_df = pd.read_csv(modifiers_path + \"quality.csv\")\r\n",
        "\r\n"
      ],
      "outputs": [],
      "execution_count": 20,
      "metadata": {
        "gather": {
          "logged": 1687457664179
        }
      }
    },
    {
      "cell_type": "markdown",
      "source": [
        "#### Format"
      ],
      "metadata": {
        "nteract": {
          "transient": {
            "deleting": false
          }
        }
      }
    },
    {
      "cell_type": "code",
      "source": [
        "format_df = format_df.iloc[9:]\r\n",
        "format_df.head()"
      ],
      "outputs": [
        {
          "output_type": "execute_result",
          "execution_count": 21,
          "data": {
            "text/plain": "                       prompt_template examples  num_examples   \n9   3 subheadings with 3 bullet points     [[]]             0  \\\n10  3 subheadings with 3 bullet points     [[]]             0   \n11  3 subheadings with 3 bullet points     [[]]             0   \n12  3 subheadings with 3 bullet points     [[]]             0   \n13  3 subheadings with 3 bullet points     [[]]             0   \n\n                                                 text  title   \n9   Everyone needs a coach. It doesn't matter whet...    NaN  \\\n10  Everyone needs a coach. It doesn't matter whet...    NaN   \n11  Everyone needs a coach. It doesn't matter whet...    NaN   \n12  Everyone needs a coach. It doesn't matter whet...    NaN   \n13  Everyone needs a coach. It doesn't matter whet...    NaN   \n\n                                               prompt   \n9   user:\\nSummarize the text.\\nText: ###\\nEveryon...  \\\n10  user:\\nSummarize the text.\\nText: ###\\nEveryon...   \n11  user:\\nSummarize the text.\\nText: ###\\nEveryon...   \n12  user:\\nSummarize the text.\\nText: ###\\nEveryon...   \n13  user:\\nSummarize the text.\\nText: ###\\nEveryon...   \n\n                                           prediction finish_reason   \n9   The lack of feedback for teachers and its impa...          stop  \\\n10  The Need for Effective Feedback for Teachers\\n...          stop   \n11  The importance of feedback for teachers\\nTeach...          stop   \n12  The importance of feedback for improvement\\nAl...          stop   \n13  The need for teacher feedback and improvement\\...          stop   \n\n    bert_score   rogue_1  ...      slor  avg_error_count_score  errors   \n9     0.140023  0.306383  ...  2.968255                    1.0       0  \\\n10    0.176263  0.317460  ...  3.157349                    1.0       0   \n11    0.148290  0.321608  ...  3.131059                    1.0       0   \n12    0.156052  0.348718  ...  3.123916                    1.0       0   \n13    0.196888  0.293839  ...  3.109228                    1.0       0   \n\n    contradiction_ratio  neutral_contradiction_ratio  number_hallucinations   \n9                   0.0                          0.0                      0  \\\n10                  0.0                          0.0                      0   \n11                  0.0                          0.0                      0   \n12                  0.0                          0.0                      0   \n13                  0.0                          0.0                      0   \n\n    three_by_three  long_subheadings  long_bullets   \n9                0                 3             8  \\\n10               1                 3             8   \n11               0                 1             8   \n12               1                 3             7   \n13               1                 3             9   \n\n                                               config  \n9   {'model': 'gpt-3.5-turbo-16k', 'suffix': '', '...  \n10  {'model': 'gpt-3.5-turbo-16k', 'suffix': '', '...  \n11  {'model': 'gpt-3.5-turbo-16k', 'suffix': '', '...  \n12  {'model': 'gpt-3.5-turbo-16k', 'suffix': '', '...  \n13  {'model': 'gpt-3.5-turbo-16k', 'suffix': '', '...  \n\n[5 rows x 22 columns]",
            "text/html": "<div>\n<style scoped>\n    .dataframe tbody tr th:only-of-type {\n        vertical-align: middle;\n    }\n\n    .dataframe tbody tr th {\n        vertical-align: top;\n    }\n\n    .dataframe thead th {\n        text-align: right;\n    }\n</style>\n<table border=\"1\" class=\"dataframe\">\n  <thead>\n    <tr style=\"text-align: right;\">\n      <th></th>\n      <th>prompt_template</th>\n      <th>examples</th>\n      <th>num_examples</th>\n      <th>text</th>\n      <th>title</th>\n      <th>prompt</th>\n      <th>prediction</th>\n      <th>finish_reason</th>\n      <th>bert_score</th>\n      <th>rogue_1</th>\n      <th>...</th>\n      <th>slor</th>\n      <th>avg_error_count_score</th>\n      <th>errors</th>\n      <th>contradiction_ratio</th>\n      <th>neutral_contradiction_ratio</th>\n      <th>number_hallucinations</th>\n      <th>three_by_three</th>\n      <th>long_subheadings</th>\n      <th>long_bullets</th>\n      <th>config</th>\n    </tr>\n  </thead>\n  <tbody>\n    <tr>\n      <th>9</th>\n      <td>3 subheadings with 3 bullet points</td>\n      <td>[[]]</td>\n      <td>0</td>\n      <td>Everyone needs a coach. It doesn't matter whet...</td>\n      <td>NaN</td>\n      <td>user:\\nSummarize the text.\\nText: ###\\nEveryon...</td>\n      <td>The lack of feedback for teachers and its impa...</td>\n      <td>stop</td>\n      <td>0.140023</td>\n      <td>0.306383</td>\n      <td>...</td>\n      <td>2.968255</td>\n      <td>1.0</td>\n      <td>0</td>\n      <td>0.0</td>\n      <td>0.0</td>\n      <td>0</td>\n      <td>0</td>\n      <td>3</td>\n      <td>8</td>\n      <td>{'model': 'gpt-3.5-turbo-16k', 'suffix': '', '...</td>\n    </tr>\n    <tr>\n      <th>10</th>\n      <td>3 subheadings with 3 bullet points</td>\n      <td>[[]]</td>\n      <td>0</td>\n      <td>Everyone needs a coach. It doesn't matter whet...</td>\n      <td>NaN</td>\n      <td>user:\\nSummarize the text.\\nText: ###\\nEveryon...</td>\n      <td>The Need for Effective Feedback for Teachers\\n...</td>\n      <td>stop</td>\n      <td>0.176263</td>\n      <td>0.317460</td>\n      <td>...</td>\n      <td>3.157349</td>\n      <td>1.0</td>\n      <td>0</td>\n      <td>0.0</td>\n      <td>0.0</td>\n      <td>0</td>\n      <td>1</td>\n      <td>3</td>\n      <td>8</td>\n      <td>{'model': 'gpt-3.5-turbo-16k', 'suffix': '', '...</td>\n    </tr>\n    <tr>\n      <th>11</th>\n      <td>3 subheadings with 3 bullet points</td>\n      <td>[[]]</td>\n      <td>0</td>\n      <td>Everyone needs a coach. It doesn't matter whet...</td>\n      <td>NaN</td>\n      <td>user:\\nSummarize the text.\\nText: ###\\nEveryon...</td>\n      <td>The importance of feedback for teachers\\nTeach...</td>\n      <td>stop</td>\n      <td>0.148290</td>\n      <td>0.321608</td>\n      <td>...</td>\n      <td>3.131059</td>\n      <td>1.0</td>\n      <td>0</td>\n      <td>0.0</td>\n      <td>0.0</td>\n      <td>0</td>\n      <td>0</td>\n      <td>1</td>\n      <td>8</td>\n      <td>{'model': 'gpt-3.5-turbo-16k', 'suffix': '', '...</td>\n    </tr>\n    <tr>\n      <th>12</th>\n      <td>3 subheadings with 3 bullet points</td>\n      <td>[[]]</td>\n      <td>0</td>\n      <td>Everyone needs a coach. It doesn't matter whet...</td>\n      <td>NaN</td>\n      <td>user:\\nSummarize the text.\\nText: ###\\nEveryon...</td>\n      <td>The importance of feedback for improvement\\nAl...</td>\n      <td>stop</td>\n      <td>0.156052</td>\n      <td>0.348718</td>\n      <td>...</td>\n      <td>3.123916</td>\n      <td>1.0</td>\n      <td>0</td>\n      <td>0.0</td>\n      <td>0.0</td>\n      <td>0</td>\n      <td>1</td>\n      <td>3</td>\n      <td>7</td>\n      <td>{'model': 'gpt-3.5-turbo-16k', 'suffix': '', '...</td>\n    </tr>\n    <tr>\n      <th>13</th>\n      <td>3 subheadings with 3 bullet points</td>\n      <td>[[]]</td>\n      <td>0</td>\n      <td>Everyone needs a coach. It doesn't matter whet...</td>\n      <td>NaN</td>\n      <td>user:\\nSummarize the text.\\nText: ###\\nEveryon...</td>\n      <td>The need for teacher feedback and improvement\\...</td>\n      <td>stop</td>\n      <td>0.196888</td>\n      <td>0.293839</td>\n      <td>...</td>\n      <td>3.109228</td>\n      <td>1.0</td>\n      <td>0</td>\n      <td>0.0</td>\n      <td>0.0</td>\n      <td>0</td>\n      <td>1</td>\n      <td>3</td>\n      <td>9</td>\n      <td>{'model': 'gpt-3.5-turbo-16k', 'suffix': '', '...</td>\n    </tr>\n  </tbody>\n</table>\n<p>5 rows × 22 columns</p>\n</div>"
          },
          "metadata": {}
        }
      ],
      "execution_count": 21,
      "metadata": {
        "jupyter": {
          "source_hidden": false,
          "outputs_hidden": false
        },
        "nteract": {
          "transient": {
            "deleting": false
          }
        },
        "gather": {
          "logged": 1687457664855
        }
      }
    },
    {
      "cell_type": "code",
      "source": [
        "for m in FORMAT_MODIFIERS:\r\n",
        "    print(m)"
      ],
      "outputs": [
        {
          "output_type": "stream",
          "name": "stdout",
          "text": "3 subheadings with 3 bullet points\n3 subheadings, each with 3 bullet points\nThree subheadings, each with three bullet points\n3 x 3 subheadings and bullet points\n3 by 3 subheadings with bullet points\nThree subheadings with three corresponding bullet points\nOutput must be three subheadings, each with three bullet points\nOutput format: three subheadings, each with three bullet points\n"
        }
      ],
      "execution_count": 22,
      "metadata": {
        "jupyter": {
          "source_hidden": false,
          "outputs_hidden": false
        },
        "nteract": {
          "transient": {
            "deleting": false
          }
        },
        "gather": {
          "logged": 1687457665231
        }
      }
    },
    {
      "cell_type": "code",
      "source": [
        "format_df.describe()"
      ],
      "outputs": [
        {
          "output_type": "execute_result",
          "execution_count": 23,
          "data": {
            "text/plain": "       num_examples  title  bert_score    rogue_1    rogue_2    rogue_L   \ncount          80.0    0.0   80.000000  80.000000  80.000000  80.000000  \\\nmean            0.0    NaN    0.122189   0.332441   0.037867   0.231952   \nstd             0.0    NaN    0.072241   0.032112   0.014247   0.022380   \nmin             0.0    NaN    0.000000   0.252874   0.010101   0.178571   \n25%             0.0    NaN    0.113008   0.310538   0.029075   0.216602   \n50%             0.0    NaN    0.148973   0.332586   0.037737   0.230108   \n75%             0.0    NaN    0.173311   0.352484   0.047226   0.245934   \nmax             0.0    NaN    0.211209   0.411111   0.078652   0.288889   \n\n            slor  avg_error_count_score     errors  contradiction_ratio   \ncount  80.000000              80.000000  80.000000            80.000000  \\\nmean         inf               0.998971   0.175000             0.002083   \nstd          NaN               0.002390   0.382364             0.013092   \nmin     2.735371               0.989011   0.000000             0.000000   \n25%     3.113596               1.000000   0.000000             0.000000   \n50%     3.162398               1.000000   0.000000             0.000000   \n75%     3.203066               1.000000   0.000000             0.000000   \nmax          inf               1.000000   1.000000             0.083333   \n\n       neutral_contradiction_ratio  number_hallucinations  three_by_three   \ncount                    80.000000              80.000000       80.000000  \\\nmean                      0.016667               0.862500        0.450000   \nstd                       0.052033               1.357061        0.500633   \nmin                       0.000000               0.000000        0.000000   \n25%                       0.000000               0.000000        0.000000   \n50%                       0.000000               0.000000        0.000000   \n75%                       0.000000               2.000000        1.000000   \nmax                       0.333333               5.000000        1.000000   \n\n       long_subheadings  long_bullets  \ncount         80.000000     80.000000  \nmean           1.900000      6.925000  \nstd            0.789167      2.432767  \nmin            0.000000      2.000000  \n25%            1.000000      6.000000  \n50%            2.000000      8.000000  \n75%            2.000000      9.000000  \nmax            3.000000      9.000000  ",
            "text/html": "<div>\n<style scoped>\n    .dataframe tbody tr th:only-of-type {\n        vertical-align: middle;\n    }\n\n    .dataframe tbody tr th {\n        vertical-align: top;\n    }\n\n    .dataframe thead th {\n        text-align: right;\n    }\n</style>\n<table border=\"1\" class=\"dataframe\">\n  <thead>\n    <tr style=\"text-align: right;\">\n      <th></th>\n      <th>num_examples</th>\n      <th>title</th>\n      <th>bert_score</th>\n      <th>rogue_1</th>\n      <th>rogue_2</th>\n      <th>rogue_L</th>\n      <th>slor</th>\n      <th>avg_error_count_score</th>\n      <th>errors</th>\n      <th>contradiction_ratio</th>\n      <th>neutral_contradiction_ratio</th>\n      <th>number_hallucinations</th>\n      <th>three_by_three</th>\n      <th>long_subheadings</th>\n      <th>long_bullets</th>\n    </tr>\n  </thead>\n  <tbody>\n    <tr>\n      <th>count</th>\n      <td>80.0</td>\n      <td>0.0</td>\n      <td>80.000000</td>\n      <td>80.000000</td>\n      <td>80.000000</td>\n      <td>80.000000</td>\n      <td>80.000000</td>\n      <td>80.000000</td>\n      <td>80.000000</td>\n      <td>80.000000</td>\n      <td>80.000000</td>\n      <td>80.000000</td>\n      <td>80.000000</td>\n      <td>80.000000</td>\n      <td>80.000000</td>\n    </tr>\n    <tr>\n      <th>mean</th>\n      <td>0.0</td>\n      <td>NaN</td>\n      <td>0.122189</td>\n      <td>0.332441</td>\n      <td>0.037867</td>\n      <td>0.231952</td>\n      <td>inf</td>\n      <td>0.998971</td>\n      <td>0.175000</td>\n      <td>0.002083</td>\n      <td>0.016667</td>\n      <td>0.862500</td>\n      <td>0.450000</td>\n      <td>1.900000</td>\n      <td>6.925000</td>\n    </tr>\n    <tr>\n      <th>std</th>\n      <td>0.0</td>\n      <td>NaN</td>\n      <td>0.072241</td>\n      <td>0.032112</td>\n      <td>0.014247</td>\n      <td>0.022380</td>\n      <td>NaN</td>\n      <td>0.002390</td>\n      <td>0.382364</td>\n      <td>0.013092</td>\n      <td>0.052033</td>\n      <td>1.357061</td>\n      <td>0.500633</td>\n      <td>0.789167</td>\n      <td>2.432767</td>\n    </tr>\n    <tr>\n      <th>min</th>\n      <td>0.0</td>\n      <td>NaN</td>\n      <td>0.000000</td>\n      <td>0.252874</td>\n      <td>0.010101</td>\n      <td>0.178571</td>\n      <td>2.735371</td>\n      <td>0.989011</td>\n      <td>0.000000</td>\n      <td>0.000000</td>\n      <td>0.000000</td>\n      <td>0.000000</td>\n      <td>0.000000</td>\n      <td>0.000000</td>\n      <td>2.000000</td>\n    </tr>\n    <tr>\n      <th>25%</th>\n      <td>0.0</td>\n      <td>NaN</td>\n      <td>0.113008</td>\n      <td>0.310538</td>\n      <td>0.029075</td>\n      <td>0.216602</td>\n      <td>3.113596</td>\n      <td>1.000000</td>\n      <td>0.000000</td>\n      <td>0.000000</td>\n      <td>0.000000</td>\n      <td>0.000000</td>\n      <td>0.000000</td>\n      <td>1.000000</td>\n      <td>6.000000</td>\n    </tr>\n    <tr>\n      <th>50%</th>\n      <td>0.0</td>\n      <td>NaN</td>\n      <td>0.148973</td>\n      <td>0.332586</td>\n      <td>0.037737</td>\n      <td>0.230108</td>\n      <td>3.162398</td>\n      <td>1.000000</td>\n      <td>0.000000</td>\n      <td>0.000000</td>\n      <td>0.000000</td>\n      <td>0.000000</td>\n      <td>0.000000</td>\n      <td>2.000000</td>\n      <td>8.000000</td>\n    </tr>\n    <tr>\n      <th>75%</th>\n      <td>0.0</td>\n      <td>NaN</td>\n      <td>0.173311</td>\n      <td>0.352484</td>\n      <td>0.047226</td>\n      <td>0.245934</td>\n      <td>3.203066</td>\n      <td>1.000000</td>\n      <td>0.000000</td>\n      <td>0.000000</td>\n      <td>0.000000</td>\n      <td>2.000000</td>\n      <td>1.000000</td>\n      <td>2.000000</td>\n      <td>9.000000</td>\n    </tr>\n    <tr>\n      <th>max</th>\n      <td>0.0</td>\n      <td>NaN</td>\n      <td>0.211209</td>\n      <td>0.411111</td>\n      <td>0.078652</td>\n      <td>0.288889</td>\n      <td>inf</td>\n      <td>1.000000</td>\n      <td>1.000000</td>\n      <td>0.083333</td>\n      <td>0.333333</td>\n      <td>5.000000</td>\n      <td>1.000000</td>\n      <td>3.000000</td>\n      <td>9.000000</td>\n    </tr>\n  </tbody>\n</table>\n</div>"
          },
          "metadata": {}
        }
      ],
      "execution_count": 23,
      "metadata": {
        "jupyter": {
          "source_hidden": false,
          "outputs_hidden": false
        },
        "nteract": {
          "transient": {
            "deleting": false
          }
        },
        "gather": {
          "logged": 1687457666446
        }
      }
    },
    {
      "cell_type": "code",
      "source": [
        "import matplotlib.pyplot as plt\r\n",
        "\r\n",
        "# Create a histogram of a numerical column\r\n",
        "plt.hist(format_df[\"three_by_three\"])\r\n",
        "plt.xlabel(\"Values\")\r\n",
        "plt.ylabel(\"Frequency\")\r\n",
        "plt.title(\"three by three\")\r\n",
        "plt.show()\r\n",
        "\r\n",
        "# # Create a histogram of a numerical column\r\n",
        "# plt.hist(format_df[\"long_subheadings\"])\r\n",
        "# plt.xlabel(\"Values\")\r\n",
        "# plt.ylabel(\"Frequency\")\r\n",
        "# plt.title(\"Long Subheadings\")\r\n",
        "# plt.show()\r\n",
        "\r\n",
        "# # Create a scatter plot of two numerical columns\r\n",
        "# plt.scatter(format_df[\"rogue_1\"], in_context_df[\"rogue_L\"])\r\n",
        "# plt.xlabel(\"rogue_1\")\r\n",
        "# plt.ylabel(\"rogue_L\")\r\n",
        "# plt.title(\"Scatter Plot\")\r\n",
        "# plt.show()"
      ],
      "outputs": [
        {
          "output_type": "display_data",
          "data": {
            "text/plain": "<Figure size 640x480 with 1 Axes>",
            "image/png": "[encoded data removed]"
          },
          "metadata": {}
        }
      ],
      "execution_count": 24,
      "metadata": {
        "jupyter": {
          "source_hidden": false,
          "outputs_hidden": false
        },
        "nteract": {
          "transient": {
            "deleting": false
          }
        },
        "gather": {
          "logged": 1687457667241
        }
      }
    },
    {
      "cell_type": "code",
      "source": [
        "dataframes = [format_df.iloc[i:i+10] for i in range(0,len(format_df),10)]\r\n",
        "\r\n",
        "\r\n",
        "for i, df in enumerate(dataframes):\r\n",
        "    print(FORMAT_MODIFIERS[i]) \r\n",
        "    print(\"\\tSuccesses: \" + str(df[\"three_by_three\"].sum()) + \"/10\")\r\n",
        "\r\n",
        "# line_plot_column(dataframes, \"three_by_three\", FORMAT_MODIFIERS)"
      ],
      "outputs": [
        {
          "output_type": "stream",
          "name": "stdout",
          "text": "3 subheadings with 3 bullet points\n\tSuccesses: 5/10\n3 subheadings, each with 3 bullet points\n\tSuccesses: 7/10\nThree subheadings, each with three bullet points\n\tSuccesses: 6/10\n3 x 3 subheadings and bullet points\n\tSuccesses: 0/10\n3 by 3 subheadings with bullet points\n\tSuccesses: 0/10\nThree subheadings with three corresponding bullet points\n\tSuccesses: 1/10\nOutput must be three subheadings, each with three bullet points\n\tSuccesses: 8/10\nOutput format: three subheadings, each with three bullet points\n\tSuccesses: 9/10\n"
        }
      ],
      "execution_count": 36,
      "metadata": {
        "jupyter": {
          "source_hidden": false,
          "outputs_hidden": false
        },
        "nteract": {
          "transient": {
            "deleting": false
          }
        },
        "gather": {
          "logged": 1687458003447
        }
      }
    },
    {
      "cell_type": "code",
      "source": [],
      "outputs": [],
      "execution_count": null,
      "metadata": {
        "jupyter": {
          "source_hidden": false,
          "outputs_hidden": false
        },
        "nteract": {
          "transient": {
            "deleting": false
          }
        }
      }
    }
  ],
  "metadata": {
    "kernelspec": {
      "name": "python310-sdkv2",
      "language": "python",
      "display_name": "Python 3.10 - SDK v2"
    },
    "language_info": {
      "name": "python",
      "version": "3.10.10",
      "mimetype": "text/x-python",
      "codemirror_mode": {
        "name": "ipython",
        "version": 3
      },
      "pygments_lexer": "ipython3",
      "nbconvert_exporter": "python",
      "file_extension": ".py"
    },
    "microsoft": {
      "ms_spell_check": {
        "ms_spell_check_language": "en"
      },
      "host": {
        "AzureML": {
          "notebookHasBeenCompleted": true
        }
      }
    },
    "kernel_info": {
      "name": "python310-sdkv2"
    },
    "nteract": {
      "version": "nteract-front-end@1.0.0"
    }
  },
  "nbformat": 4,
  "nbformat_minor": 2
}