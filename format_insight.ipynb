{
  "cells": [
    {
      "cell_type": "code",
      "execution_count": 1,
      "metadata": {
        "gather": {
          "logged": 1687457664179
        }
      },
      "outputs": [],
      "source": [
        "import pandas as pd\n",
        "import numpy as np\n",
        "from insight_utils import bar_groups_chart, line_plot_column\n",
        "from constants import FORMAT_MODIFIERS, LENGTH_MODIFIERS, DENSENESS_MODIFIERS, QUALITY_MODIFIERS, STRUCTURE_MODIFIERS\n",
        "\n",
        "modifiers_path = \"results/modifiers/gpt-3.5-turbo-16k/\"\n",
        "baseline_df = pd.read_csv(\"results/gpt4/baseline.csv\")\n",
        "format_alpha_df = pd.read_csv(modifiers_path + \"alpha_format.csv\")\n",
        "format_1temp_df = pd.read_csv(modifiers_path + \"format1temp.csv\")\n",
        "format_df = pd.read_csv(modifiers_path + \"format.csv\")\n",
        "# length_df = pd.read_csv(modifiers_path + \"length.csv\")\n",
        "# denseness_df = pd.read_csv(modifiers_path + \"denseness.csv\")\n",
        "# structure_df = pd.read_csv(modifiers_path + \"structure.csv\")\n",
        "# quality_df = pd.read_csv(modifiers_path + \"quality.csv\")\n",
        "\n"
      ]
    },
    {
      "cell_type": "markdown",
      "metadata": {
        "nteract": {
          "transient": {
            "deleting": false
          }
        }
      },
      "source": [
        "#### Format"
      ]
    },
    {
      "cell_type": "code",
      "execution_count": 2,
      "metadata": {
        "gather": {
          "logged": 1687457664855
        },
        "jupyter": {
          "outputs_hidden": false,
          "source_hidden": false
        },
        "nteract": {
          "transient": {
            "deleting": false
          }
        }
      },
      "outputs": [
        {
          "data": {
            "text/html": [
              "<div>\n",
              "<style scoped>\n",
              "    .dataframe tbody tr th:only-of-type {\n",
              "        vertical-align: middle;\n",
              "    }\n",
              "\n",
              "    .dataframe tbody tr th {\n",
              "        vertical-align: top;\n",
              "    }\n",
              "\n",
              "    .dataframe thead th {\n",
              "        text-align: right;\n",
              "    }\n",
              "</style>\n",
              "<table border=\"1\" class=\"dataframe\">\n",
              "  <thead>\n",
              "    <tr style=\"text-align: right;\">\n",
              "      <th></th>\n",
              "      <th>prompt_template</th>\n",
              "      <th>examples</th>\n",
              "      <th>num_examples</th>\n",
              "      <th>text</th>\n",
              "      <th>title</th>\n",
              "      <th>prompt</th>\n",
              "      <th>prediction</th>\n",
              "      <th>finish_reason</th>\n",
              "      <th>bert_score</th>\n",
              "      <th>rogue_1</th>\n",
              "      <th>...</th>\n",
              "      <th>neutral_contradiction_ratio</th>\n",
              "      <th>number_hallucinations</th>\n",
              "      <th>three_by_three</th>\n",
              "      <th>long_subheadings</th>\n",
              "      <th>long_bullets</th>\n",
              "      <th>geval_fluency</th>\n",
              "      <th>geval_relevance</th>\n",
              "      <th>geval_coherence</th>\n",
              "      <th>geval_consistency</th>\n",
              "      <th>config</th>\n",
              "    </tr>\n",
              "  </thead>\n",
              "  <tbody>\n",
              "    <tr>\n",
              "      <th>0</th>\n",
              "      <td>3 subheadings with 3 bullet points</td>\n",
              "      <td>[[]]</td>\n",
              "      <td>0</td>\n",
              "      <td>When I think about the rise of AI, I'm reminde...</td>\n",
              "      <td>NaN</td>\n",
              "      <td>user:\\nSummarize the text.\\nText: ###\\nWhen I ...</td>\n",
              "      <td>The Concentration of AI in Big Tech Companies\\...</td>\n",
              "      <td>stop</td>\n",
              "      <td>[]</td>\n",
              "      <td>[]</td>\n",
              "      <td>...</td>\n",
              "      <td>0.0</td>\n",
              "      <td>0</td>\n",
              "      <td>1</td>\n",
              "      <td>1</td>\n",
              "      <td>5</td>\n",
              "      <td>0</td>\n",
              "      <td>0</td>\n",
              "      <td>0</td>\n",
              "      <td>0</td>\n",
              "      <td>{'model': 'gpt-3.5-turbo-16k', 'suffix': '', '...</td>\n",
              "    </tr>\n",
              "    <tr>\n",
              "      <th>1</th>\n",
              "      <td>3 subheadings with 3 bullet points</td>\n",
              "      <td>[[]]</td>\n",
              "      <td>0</td>\n",
              "      <td>When I think about the rise of AI, I'm reminde...</td>\n",
              "      <td>NaN</td>\n",
              "      <td>user:\\nSummarize the text.\\nText: ###\\nWhen I ...</td>\n",
              "      <td>The concentration of AI in big tech companies\\...</td>\n",
              "      <td>stop</td>\n",
              "      <td>[]</td>\n",
              "      <td>[]</td>\n",
              "      <td>...</td>\n",
              "      <td>0.0</td>\n",
              "      <td>0</td>\n",
              "      <td>1</td>\n",
              "      <td>1</td>\n",
              "      <td>8</td>\n",
              "      <td>0</td>\n",
              "      <td>0</td>\n",
              "      <td>0</td>\n",
              "      <td>0</td>\n",
              "      <td>{'model': 'gpt-3.5-turbo-16k', 'suffix': '', '...</td>\n",
              "    </tr>\n",
              "    <tr>\n",
              "      <th>2</th>\n",
              "      <td>3 subheadings, each with 3 bullet points</td>\n",
              "      <td>[[]]</td>\n",
              "      <td>0</td>\n",
              "      <td>When I think about the rise of AI, I'm reminde...</td>\n",
              "      <td>NaN</td>\n",
              "      <td>user:\\nSummarize the text.\\nText: ###\\nWhen I ...</td>\n",
              "      <td>Rise of AI and Concentration in Big Tech Compa...</td>\n",
              "      <td>stop</td>\n",
              "      <td>[]</td>\n",
              "      <td>[]</td>\n",
              "      <td>...</td>\n",
              "      <td>0.0</td>\n",
              "      <td>0</td>\n",
              "      <td>1</td>\n",
              "      <td>1</td>\n",
              "      <td>9</td>\n",
              "      <td>0</td>\n",
              "      <td>0</td>\n",
              "      <td>0</td>\n",
              "      <td>0</td>\n",
              "      <td>{'model': 'gpt-3.5-turbo-16k', 'suffix': '', '...</td>\n",
              "    </tr>\n",
              "    <tr>\n",
              "      <th>3</th>\n",
              "      <td>3 subheadings, each with 3 bullet points</td>\n",
              "      <td>[[]]</td>\n",
              "      <td>0</td>\n",
              "      <td>When I think about the rise of AI, I'm reminde...</td>\n",
              "      <td>NaN</td>\n",
              "      <td>user:\\nSummarize the text.\\nText: ###\\nWhen I ...</td>\n",
              "      <td>Rise of AI and its concentration in big tech c...</td>\n",
              "      <td>stop</td>\n",
              "      <td>[]</td>\n",
              "      <td>[]</td>\n",
              "      <td>...</td>\n",
              "      <td>0.0</td>\n",
              "      <td>0</td>\n",
              "      <td>1</td>\n",
              "      <td>3</td>\n",
              "      <td>9</td>\n",
              "      <td>0</td>\n",
              "      <td>0</td>\n",
              "      <td>0</td>\n",
              "      <td>0</td>\n",
              "      <td>{'model': 'gpt-3.5-turbo-16k', 'suffix': '', '...</td>\n",
              "    </tr>\n",
              "    <tr>\n",
              "      <th>4</th>\n",
              "      <td>3 x 3 subheadings and bullet points</td>\n",
              "      <td>[[]]</td>\n",
              "      <td>0</td>\n",
              "      <td>When I think about the rise of AI, I'm reminde...</td>\n",
              "      <td>NaN</td>\n",
              "      <td>user:\\nSummarize the text.\\nText: ###\\nWhen I ...</td>\n",
              "      <td>Rise of AI and its concentration in big tech c...</td>\n",
              "      <td>stop</td>\n",
              "      <td>[]</td>\n",
              "      <td>[]</td>\n",
              "      <td>...</td>\n",
              "      <td>0.0</td>\n",
              "      <td>0</td>\n",
              "      <td>0</td>\n",
              "      <td>2</td>\n",
              "      <td>9</td>\n",
              "      <td>0</td>\n",
              "      <td>0</td>\n",
              "      <td>0</td>\n",
              "      <td>0</td>\n",
              "      <td>{'model': 'gpt-3.5-turbo-16k', 'suffix': '', '...</td>\n",
              "    </tr>\n",
              "  </tbody>\n",
              "</table>\n",
              "<p>5 rows × 26 columns</p>\n",
              "</div>"
            ],
            "text/plain": [
              "                            prompt_template examples  num_examples  \\\n",
              "0        3 subheadings with 3 bullet points     [[]]             0   \n",
              "1        3 subheadings with 3 bullet points     [[]]             0   \n",
              "2  3 subheadings, each with 3 bullet points     [[]]             0   \n",
              "3  3 subheadings, each with 3 bullet points     [[]]             0   \n",
              "4       3 x 3 subheadings and bullet points     [[]]             0   \n",
              "\n",
              "                                                text  title  \\\n",
              "0  When I think about the rise of AI, I'm reminde...    NaN   \n",
              "1  When I think about the rise of AI, I'm reminde...    NaN   \n",
              "2  When I think about the rise of AI, I'm reminde...    NaN   \n",
              "3  When I think about the rise of AI, I'm reminde...    NaN   \n",
              "4  When I think about the rise of AI, I'm reminde...    NaN   \n",
              "\n",
              "                                              prompt  \\\n",
              "0  user:\\nSummarize the text.\\nText: ###\\nWhen I ...   \n",
              "1  user:\\nSummarize the text.\\nText: ###\\nWhen I ...   \n",
              "2  user:\\nSummarize the text.\\nText: ###\\nWhen I ...   \n",
              "3  user:\\nSummarize the text.\\nText: ###\\nWhen I ...   \n",
              "4  user:\\nSummarize the text.\\nText: ###\\nWhen I ...   \n",
              "\n",
              "                                          prediction finish_reason bert_score  \\\n",
              "0  The Concentration of AI in Big Tech Companies\\...          stop         []   \n",
              "1  The concentration of AI in big tech companies\\...          stop         []   \n",
              "2  Rise of AI and Concentration in Big Tech Compa...          stop         []   \n",
              "3  Rise of AI and its concentration in big tech c...          stop         []   \n",
              "4  Rise of AI and its concentration in big tech c...          stop         []   \n",
              "\n",
              "  rogue_1  ... neutral_contradiction_ratio number_hallucinations  \\\n",
              "0      []  ...                         0.0                     0   \n",
              "1      []  ...                         0.0                     0   \n",
              "2      []  ...                         0.0                     0   \n",
              "3      []  ...                         0.0                     0   \n",
              "4      []  ...                         0.0                     0   \n",
              "\n",
              "   three_by_three  long_subheadings  long_bullets  geval_fluency  \\\n",
              "0               1                 1             5              0   \n",
              "1               1                 1             8              0   \n",
              "2               1                 1             9              0   \n",
              "3               1                 3             9              0   \n",
              "4               0                 2             9              0   \n",
              "\n",
              "   geval_relevance  geval_coherence  geval_consistency  \\\n",
              "0                0                0                  0   \n",
              "1                0                0                  0   \n",
              "2                0                0                  0   \n",
              "3                0                0                  0   \n",
              "4                0                0                  0   \n",
              "\n",
              "                                              config  \n",
              "0  {'model': 'gpt-3.5-turbo-16k', 'suffix': '', '...  \n",
              "1  {'model': 'gpt-3.5-turbo-16k', 'suffix': '', '...  \n",
              "2  {'model': 'gpt-3.5-turbo-16k', 'suffix': '', '...  \n",
              "3  {'model': 'gpt-3.5-turbo-16k', 'suffix': '', '...  \n",
              "4  {'model': 'gpt-3.5-turbo-16k', 'suffix': '', '...  \n",
              "\n",
              "[5 rows x 26 columns]"
            ]
          },
          "execution_count": 2,
          "metadata": {},
          "output_type": "execute_result"
        }
      ],
      "source": [
        "# format_df2 = format_df.iloc[9:]\n",
        "format_df.head()"
      ]
    },
    {
      "cell_type": "code",
      "execution_count": 3,
      "metadata": {
        "gather": {
          "logged": 1687457665231
        },
        "jupyter": {
          "outputs_hidden": false,
          "source_hidden": false
        },
        "nteract": {
          "transient": {
            "deleting": false
          }
        }
      },
      "outputs": [
        {
          "name": "stdout",
          "output_type": "stream",
          "text": [
            "3 subheadings with 3 bullet points\n",
            "3 subheadings, each with 3 bullet points\n",
            "3 x 3 subheadings and bullet points\n",
            "3 by 3 subheadings with bullet points\n",
            "3 subtitles with 3 bullet points\n",
            "3 times 3 subtitles with bullet points\n",
            "Three subheadings with three corresponding bullet points\n",
            "Output must be three subheadings, each with three bullet points\n",
            "Output format: three subheadings, each with three bullet points\n",
            "Output format: three subtitles, each with three bullet points\n",
            "Output format: three sub-points, each with three bullet points\n",
            "Three subheadings, each with three bullet points\n",
            "Three subsections containing three bullet points each\n",
            "Three subheadings each accompanied by three bullet points\n",
            "Three subtitles, each with three bullet points\n",
            "Three main headings consisting of three bullet points rewritten as follows\n",
            "Three main sections, each containing three key points\n",
            "Three categories with three points each\n",
            "Three sections headers, with each containing three bullet points\n",
            "Three sections, each containing three points that are listed using bullet points\n",
            "Three divisions with a set of three items\n",
            "Three sections, each containing a list of three points\n",
            "Organize the summary into three subheadings with bullet points\n",
            "Three sets of three headings with bullet points\n",
            "Three titles, each containing three bullet points\n",
            "Output style: three subheadings, each containing three bullet points\n",
            "Format for output: three headings, each containing three bullet points\n",
            "Format of output: three headings with three points listed under each heading\n",
            "Format of output: three headings with three items listed under each heading\n"
          ]
        }
      ],
      "source": [
        "for m in FORMAT_MODIFIERS:\n",
        "    print(m)"
      ]
    },
    {
      "cell_type": "code",
      "execution_count": 4,
      "metadata": {
        "gather": {
          "logged": 1687457666446
        },
        "jupyter": {
          "outputs_hidden": false,
          "source_hidden": false
        },
        "nteract": {
          "transient": {
            "deleting": false
          }
        }
      },
      "outputs": [
        {
          "data": {
            "text/html": [
              "<div>\n",
              "<style scoped>\n",
              "    .dataframe tbody tr th:only-of-type {\n",
              "        vertical-align: middle;\n",
              "    }\n",
              "\n",
              "    .dataframe tbody tr th {\n",
              "        vertical-align: top;\n",
              "    }\n",
              "\n",
              "    .dataframe thead th {\n",
              "        text-align: right;\n",
              "    }\n",
              "</style>\n",
              "<table border=\"1\" class=\"dataframe\">\n",
              "  <thead>\n",
              "    <tr style=\"text-align: right;\">\n",
              "      <th></th>\n",
              "      <th>num_examples</th>\n",
              "      <th>title</th>\n",
              "      <th>slor</th>\n",
              "      <th>avg_error_count_score</th>\n",
              "      <th>errors</th>\n",
              "      <th>contradiction_ratio</th>\n",
              "      <th>neutral_contradiction_ratio</th>\n",
              "      <th>number_hallucinations</th>\n",
              "      <th>three_by_three</th>\n",
              "      <th>long_subheadings</th>\n",
              "      <th>long_bullets</th>\n",
              "      <th>geval_fluency</th>\n",
              "      <th>geval_relevance</th>\n",
              "      <th>geval_coherence</th>\n",
              "      <th>geval_consistency</th>\n",
              "    </tr>\n",
              "  </thead>\n",
              "  <tbody>\n",
              "    <tr>\n",
              "      <th>count</th>\n",
              "      <td>870.0</td>\n",
              "      <td>0.0</td>\n",
              "      <td>870.0</td>\n",
              "      <td>870.0</td>\n",
              "      <td>870.0</td>\n",
              "      <td>870.0</td>\n",
              "      <td>870.0</td>\n",
              "      <td>870.0</td>\n",
              "      <td>870.000000</td>\n",
              "      <td>870.000000</td>\n",
              "      <td>870.000000</td>\n",
              "      <td>870.0</td>\n",
              "      <td>870.0</td>\n",
              "      <td>870.0</td>\n",
              "      <td>870.0</td>\n",
              "    </tr>\n",
              "    <tr>\n",
              "      <th>mean</th>\n",
              "      <td>0.0</td>\n",
              "      <td>NaN</td>\n",
              "      <td>0.0</td>\n",
              "      <td>0.0</td>\n",
              "      <td>0.0</td>\n",
              "      <td>0.0</td>\n",
              "      <td>0.0</td>\n",
              "      <td>0.0</td>\n",
              "      <td>0.457471</td>\n",
              "      <td>1.432184</td>\n",
              "      <td>5.983908</td>\n",
              "      <td>0.0</td>\n",
              "      <td>0.0</td>\n",
              "      <td>0.0</td>\n",
              "      <td>0.0</td>\n",
              "    </tr>\n",
              "    <tr>\n",
              "      <th>std</th>\n",
              "      <td>0.0</td>\n",
              "      <td>NaN</td>\n",
              "      <td>0.0</td>\n",
              "      <td>0.0</td>\n",
              "      <td>0.0</td>\n",
              "      <td>0.0</td>\n",
              "      <td>0.0</td>\n",
              "      <td>0.0</td>\n",
              "      <td>0.498475</td>\n",
              "      <td>1.056243</td>\n",
              "      <td>3.313635</td>\n",
              "      <td>0.0</td>\n",
              "      <td>0.0</td>\n",
              "      <td>0.0</td>\n",
              "      <td>0.0</td>\n",
              "    </tr>\n",
              "    <tr>\n",
              "      <th>min</th>\n",
              "      <td>0.0</td>\n",
              "      <td>NaN</td>\n",
              "      <td>0.0</td>\n",
              "      <td>0.0</td>\n",
              "      <td>0.0</td>\n",
              "      <td>0.0</td>\n",
              "      <td>0.0</td>\n",
              "      <td>0.0</td>\n",
              "      <td>0.000000</td>\n",
              "      <td>0.000000</td>\n",
              "      <td>0.000000</td>\n",
              "      <td>0.0</td>\n",
              "      <td>0.0</td>\n",
              "      <td>0.0</td>\n",
              "      <td>0.0</td>\n",
              "    </tr>\n",
              "    <tr>\n",
              "      <th>25%</th>\n",
              "      <td>0.0</td>\n",
              "      <td>NaN</td>\n",
              "      <td>0.0</td>\n",
              "      <td>0.0</td>\n",
              "      <td>0.0</td>\n",
              "      <td>0.0</td>\n",
              "      <td>0.0</td>\n",
              "      <td>0.0</td>\n",
              "      <td>0.000000</td>\n",
              "      <td>1.000000</td>\n",
              "      <td>2.000000</td>\n",
              "      <td>0.0</td>\n",
              "      <td>0.0</td>\n",
              "      <td>0.0</td>\n",
              "      <td>0.0</td>\n",
              "    </tr>\n",
              "    <tr>\n",
              "      <th>50%</th>\n",
              "      <td>0.0</td>\n",
              "      <td>NaN</td>\n",
              "      <td>0.0</td>\n",
              "      <td>0.0</td>\n",
              "      <td>0.0</td>\n",
              "      <td>0.0</td>\n",
              "      <td>0.0</td>\n",
              "      <td>0.0</td>\n",
              "      <td>0.000000</td>\n",
              "      <td>1.000000</td>\n",
              "      <td>7.000000</td>\n",
              "      <td>0.0</td>\n",
              "      <td>0.0</td>\n",
              "      <td>0.0</td>\n",
              "      <td>0.0</td>\n",
              "    </tr>\n",
              "    <tr>\n",
              "      <th>75%</th>\n",
              "      <td>0.0</td>\n",
              "      <td>NaN</td>\n",
              "      <td>0.0</td>\n",
              "      <td>0.0</td>\n",
              "      <td>0.0</td>\n",
              "      <td>0.0</td>\n",
              "      <td>0.0</td>\n",
              "      <td>0.0</td>\n",
              "      <td>1.000000</td>\n",
              "      <td>2.000000</td>\n",
              "      <td>9.000000</td>\n",
              "      <td>0.0</td>\n",
              "      <td>0.0</td>\n",
              "      <td>0.0</td>\n",
              "      <td>0.0</td>\n",
              "    </tr>\n",
              "    <tr>\n",
              "      <th>max</th>\n",
              "      <td>0.0</td>\n",
              "      <td>NaN</td>\n",
              "      <td>0.0</td>\n",
              "      <td>0.0</td>\n",
              "      <td>0.0</td>\n",
              "      <td>0.0</td>\n",
              "      <td>0.0</td>\n",
              "      <td>0.0</td>\n",
              "      <td>1.000000</td>\n",
              "      <td>3.000000</td>\n",
              "      <td>9.000000</td>\n",
              "      <td>0.0</td>\n",
              "      <td>0.0</td>\n",
              "      <td>0.0</td>\n",
              "      <td>0.0</td>\n",
              "    </tr>\n",
              "  </tbody>\n",
              "</table>\n",
              "</div>"
            ],
            "text/plain": [
              "       num_examples  title   slor  avg_error_count_score  errors  \\\n",
              "count         870.0    0.0  870.0                  870.0   870.0   \n",
              "mean            0.0    NaN    0.0                    0.0     0.0   \n",
              "std             0.0    NaN    0.0                    0.0     0.0   \n",
              "min             0.0    NaN    0.0                    0.0     0.0   \n",
              "25%             0.0    NaN    0.0                    0.0     0.0   \n",
              "50%             0.0    NaN    0.0                    0.0     0.0   \n",
              "75%             0.0    NaN    0.0                    0.0     0.0   \n",
              "max             0.0    NaN    0.0                    0.0     0.0   \n",
              "\n",
              "       contradiction_ratio  neutral_contradiction_ratio  \\\n",
              "count                870.0                        870.0   \n",
              "mean                   0.0                          0.0   \n",
              "std                    0.0                          0.0   \n",
              "min                    0.0                          0.0   \n",
              "25%                    0.0                          0.0   \n",
              "50%                    0.0                          0.0   \n",
              "75%                    0.0                          0.0   \n",
              "max                    0.0                          0.0   \n",
              "\n",
              "       number_hallucinations  three_by_three  long_subheadings  long_bullets  \\\n",
              "count                  870.0      870.000000        870.000000    870.000000   \n",
              "mean                     0.0        0.457471          1.432184      5.983908   \n",
              "std                      0.0        0.498475          1.056243      3.313635   \n",
              "min                      0.0        0.000000          0.000000      0.000000   \n",
              "25%                      0.0        0.000000          1.000000      2.000000   \n",
              "50%                      0.0        0.000000          1.000000      7.000000   \n",
              "75%                      0.0        1.000000          2.000000      9.000000   \n",
              "max                      0.0        1.000000          3.000000      9.000000   \n",
              "\n",
              "       geval_fluency  geval_relevance  geval_coherence  geval_consistency  \n",
              "count          870.0            870.0            870.0              870.0  \n",
              "mean             0.0              0.0              0.0                0.0  \n",
              "std              0.0              0.0              0.0                0.0  \n",
              "min              0.0              0.0              0.0                0.0  \n",
              "25%              0.0              0.0              0.0                0.0  \n",
              "50%              0.0              0.0              0.0                0.0  \n",
              "75%              0.0              0.0              0.0                0.0  \n",
              "max              0.0              0.0              0.0                0.0  "
            ]
          },
          "execution_count": 4,
          "metadata": {},
          "output_type": "execute_result"
        }
      ],
      "source": [
        "format_df.describe()"
      ]
    },
    {
      "cell_type": "code",
      "execution_count": 5,
      "metadata": {
        "gather": {
          "logged": 1687457667241
        },
        "jupyter": {
          "outputs_hidden": false,
          "source_hidden": false
        },
        "nteract": {
          "transient": {
            "deleting": false
          }
        }
      },
      "outputs": [
        {
          "data": {
            "image/png": "[encoded data removed]",
            "text/plain": [
              "<Figure size 640x480 with 1 Axes>"
            ]
          },
          "metadata": {},
          "output_type": "display_data"
        }
      ],
      "source": [
        "import matplotlib.pyplot as plt\n",
        "\n",
        "# Create a histogram of a numerical column\n",
        "plt.hist(format_df[\"three_by_three\"])\n",
        "plt.xlabel(\"Values\")\n",
        "plt.ylabel(\"Frequency\")\n",
        "plt.title(\"three by three\")\n",
        "plt.show()\n",
        "\n",
        "# # Create a histogram of a numerical column\n",
        "# plt.hist(format_df[\"long_subheadings\"])\n",
        "# plt.xlabel(\"Values\")\n",
        "# plt.ylabel(\"Frequency\")\n",
        "# plt.title(\"Long Subheadings\")\n",
        "# plt.show()\n",
        "\n",
        "# # Create a scatter plot of two numerical columns\n",
        "# plt.scatter(format_df[\"rogue_1\"], in_context_df[\"rogue_L\"])\n",
        "# plt.xlabel(\"rogue_1\")\n",
        "# plt.ylabel(\"rogue_L\")\n",
        "# plt.title(\"Scatter Plot\")\n",
        "# plt.show()"
      ]
    },
    {
      "cell_type": "code",
      "execution_count": 7,
      "metadata": {
        "gather": {
          "logged": 1687458003447
        },
        "jupyter": {
          "outputs_hidden": false,
          "source_hidden": false
        },
        "nteract": {
          "transient": {
            "deleting": false
          }
        }
      },
      "outputs": [
        {
          "name": "stdout",
          "output_type": "stream",
          "text": [
            "####### 30 tries per modifier #######\n",
            "\n",
            "\\begin{tabular}{llr}\n",
            " & Modifier & Success Rate \\\\\n",
            "0 & Three subtitles, each with three bullet points & 90 \\\\\n",
            "1 & Output must be three subheadings, each with three bullet points & 87 \\\\\n",
            "2 & Three titles, each containing three bullet points & 87 \\\\\n",
            "3 & 3 subheadings with 3 bullet points & 80 \\\\\n",
            "4 & Three subheadings each accompanied by three bullet points & 77 \\\\\n",
            "5 & Format of output: three headings with three items listed under each heading & 77 \\\\\n",
            "6 & 3 subheadings, each with 3 bullet points & 73 \\\\\n",
            "7 & Three subheadings, each with three bullet points & 73 \\\\\n",
            "8 & Three sections headers, with each containing three bullet points & 73 \\\\\n",
            "9 & Three subsections containing three bullet points each & 67 \\\\\n",
            "10 & Format for output: three headings, each containing three bullet points & 67 \\\\\n",
            "11 & Format of output: three headings with three points listed under each heading & 63 \\\\\n",
            "12 & Output format: three subheadings, each with three bullet points & 57 \\\\\n",
            "13 & Three sets of three headings with bullet points & 57 \\\\\n",
            "14 & Output style: three subheadings, each containing three bullet points & 50 \\\\\n",
            "15 & Three subheadings with three corresponding bullet points & 37 \\\\\n",
            "16 & Organize the summary into three subheadings with bullet points & 37 \\\\\n",
            "17 & 3 subtitles with 3 bullet points & 30 \\\\\n",
            "18 & Three main headings consisting of three bullet points rewritten as follows & 27 \\\\\n",
            "19 & Three categories with three points each & 27 \\\\\n",
            "20 & 3 x 3 subheadings and bullet points & 23 \\\\\n",
            "21 & Output format: three sub-points, each with three bullet points & 23 \\\\\n",
            "22 & Output format: three subtitles, each with three bullet points & 17 \\\\\n",
            "23 & Three main sections, each containing three key points & 13 \\\\\n",
            "24 & 3 by 3 subheadings with bullet points & 10 \\\\\n",
            "25 & Three sections, each containing three points that are listed using bullet points & 7 \\\\\n",
            "26 & 3 times 3 subtitles with bullet points & 0 \\\\\n",
            "27 & Three divisions with a set of three items & 0 \\\\\n",
            "28 & Three sections, each containing a list of three points & 0 \\\\\n",
            "\\end{tabular}\n",
            "\n"
          ]
        }
      ],
      "source": [
        "dataframes = []\n",
        "\n",
        "for modifier in FORMAT_MODIFIERS:\n",
        "    modifier_df = format_df[format_df[\"prompt_template\"] == modifier]\n",
        "    dataframes.append(modifier_df)\n",
        "\n",
        "print(\"####### 30 tries per modifier #######\\n\")\n",
        "\n",
        "dic = {}\n",
        "\n",
        "for i, df in enumerate(dataframes):\n",
        "    success_rate = (df[\"three_by_three\"].sum() / 30) * 100\n",
        "    modifier = FORMAT_MODIFIERS[i]\n",
        "    dic.update({modifier: round(success_rate)})\n",
        "\n",
        "sorted_dic = dict(sorted(dic.items(), key=lambda item: item[1], reverse=True))\n",
        "result_df = pd.DataFrame(sorted_dic.items(),columns=[\"Modifier\", \"Success Rate\"])\n",
        "\n",
        "print(result_df.style.to_latex())"
      ]
    },
    {
      "cell_type": "code",
      "execution_count": null,
      "metadata": {
        "jupyter": {
          "outputs_hidden": false,
          "source_hidden": false
        },
        "nteract": {
          "transient": {
            "deleting": false
          }
        }
      },
      "outputs": [],
      "source": []
    }
  ],
  "metadata": {
    "kernel_info": {
      "name": "python310-sdkv2"
    },
    "kernelspec": {
      "display_name": "thoth",
      "language": "python",
      "name": "python3"
    },
    "language_info": {
      "codemirror_mode": {
        "name": "ipython",
        "version": 3
      },
      "file_extension": ".py",
      "mimetype": "text/x-python",
      "name": "python",
      "nbconvert_exporter": "python",
      "pygments_lexer": "ipython3",
      "version": "3.10.11"
    },
    "microsoft": {
      "host": {
        "AzureML": {
          "notebookHasBeenCompleted": true
        }
      },
      "ms_spell_check": {
        "ms_spell_check_language": "en"
      }
    },
    "nteract": {
      "version": "nteract-front-end@1.0.0"
    }
  },
  "nbformat": 4,
  "nbformat_minor": 2
}
