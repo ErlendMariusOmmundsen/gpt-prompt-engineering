{
 "cells": [
  {
   "cell_type": "code",
   "execution_count": 1,
   "metadata": {},
   "outputs": [],
   "source": [
    "import pandas as pd\n",
    "from insight_utils import print_prediction, line_plot_column, bar_groups_chart, box_plot"
   ]
  },
  {
   "cell_type": "markdown",
   "metadata": {},
   "source": [
    "#### Data"
   ]
  },
  {
   "cell_type": "code",
   "execution_count": 2,
   "metadata": {},
   "outputs": [],
   "source": [
    "base_path = \"results/gpt-3.5-turbo-16k/temp_human_eval/\"\n",
    "\n",
    "base_prompt_df = pd.read_csv(base_path + \"base_prompt.csv\")\n",
    "description_df = pd.read_csv(base_path + \"description.csv\")\n",
    "follow_up_df = pd.read_csv(base_path + \"follow_up.csv\")\n",
    "headings_first_df = pd.read_csv(base_path + \"headings_first.csv\")\n",
    "important_parts_df = pd.read_csv(base_path + \"important_parts.csv\")\n",
    "improve_df = pd.read_csv(base_path + \"improve.csv\")\n",
    "persona_df = pd.read_csv(base_path + \"persona.csv\")\n",
    "repeat_df = pd.read_csv(base_path + \"repeat.csv\")\n",
    "step_by_step_df = pd.read_csv(base_path + \"step_by_step.csv\")\n",
    "template_df = pd.read_csv(base_path + \"template.csv\")\n",
    "topic_df = pd.read_csv(base_path + \"topic.csv\")\n",
    "analyze_main_themes_df = pd.read_csv(base_path + \"analyze_main_themes.csv\")\n",
    "main_points_df = pd.read_csv(base_path + \"main_points.csv\")\n",
    "in_context_df = pd.read_csv(base_path + \"in_context.csv\")\n",
    "\n",
    "initial_base_prompt_df = pd.read_csv(\"results/gpt-3.5-turbo-16k/initial/base_prompt.csv\")\n",
    "initial_description_df = pd.read_csv(\"results/gpt-3.5-turbo-16k/initial/description.csv\")\n",
    "initial_topic_df = pd.read_csv(\"results/gpt-3.5-turbo-16k/initial/topic.csv\")\n",
    "\n",
    "\n",
    "dataframe_names = [\"baseline\", \"description\", \"follow_up\", \"headings_first\", \"important_parts\", \"improve\", \"persona\", \"repeat\", \"step_by_step\", \"template\", \"topic\"]\n",
    "dataframes = [base_prompt_df, description_df, follow_up_df, headings_first_df, important_parts_df, improve_df, persona_df, repeat_df, step_by_step_df, template_df, topic_df, analyze_main_themes_df, main_points_df, in_context_df]\n",
    "\n",
    "initial_dataframe_names = [\"baseline\", \"description\", \"topic\"]\n",
    "initial_dataframes = [initial_base_prompt_df, initial_description_df, initial_topic_df]\n",
    "\n",
    "column_names = [\"bert_score\"]\n",
    "titles = [\"How AI could empower any business\", \"Pussy Riot's powerful message to Vladimir Putin\", \"What's next in 3D printing\"]\n",
    "\n",
    "\n",
    "def write_for_notion(prediction: str, file_name: str, title: str):\n",
    "    lines = prediction.split(\"\\n\")\n",
    "    with open(\"summs_for_humans/\" + file_name + \".md\", \"w\") as f:\n",
    "        f.write(\"## \" + title)\n",
    "        for i in range(len(lines)):\n",
    "            no_newline = lines[i].strip()\n",
    "            if i in [0,4,8]:\n",
    "                f.write(\"\\n\\n**\" + no_newline + \"**\\n\")\n",
    "            else:\n",
    "                f.write(\"\\n- \" + lines[i])\n",
    "\n"
   ]
  },
  {
   "cell_type": "code",
   "execution_count": 3,
   "metadata": {},
   "outputs": [],
   "source": [
    "import json\n",
    "import numpy as np\n",
    "\n",
    "c = 1\n",
    "for metric in column_names:\n",
    "    for df in dataframes:\n",
    "        df[metric] = df[metric].apply(lambda x: np.mean(json.loads(x)))\n",
    "        for title in titles:\n",
    "            title_df = df[df[\"title\"] == title]\n",
    "            title_df = title_df[title_df[\"three_by_three\"] == 1]\n",
    "            largest = title_df.nlargest(1, columns=[metric])\n",
    "            write_for_notion(largest[\"prediction\"].values[0], \"Summary \" + str(c), \"Summary \" + str(c) + \": \" + title)\n",
    "            c += 1\n",
    "\n"
   ]
  },
  {
   "cell_type": "code",
   "execution_count": 4,
   "metadata": {},
   "outputs": [],
   "source": [
    "c = 46\n",
    "for metric in column_names:\n",
    "    for df in initial_dataframes:\n",
    "        df[metric] = df[metric].apply(lambda x: np.mean(json.loads(x)))\n",
    "        for title in titles:\n",
    "            title_df = df[df[\"title\"] == title]\n",
    "            title_df = title_df[title_df[\"three_by_three\"] == 1]\n",
    "            largest = title_df.nlargest(1, columns=[metric])\n",
    "            write_for_notion(largest[\"prediction\"].values[0], \"Summary \" + str(c), \"Summary \" + str(c) + \": \" + title)\n",
    "            c += 1\n",
    "\n"
   ]
  }
 ],
 "metadata": {
  "kernelspec": {
   "display_name": "Python 3",
   "language": "python",
   "name": "python3"
  },
  "language_info": {
   "codemirror_mode": {
    "name": "ipython",
    "version": 3
   },
   "file_extension": ".py",
   "mimetype": "text/x-python",
   "name": "python",
   "nbconvert_exporter": "python",
   "pygments_lexer": "ipython3",
   "version": "3.10.9"
  },
  "orig_nbformat": 4
 },
 "nbformat": 4,
 "nbformat_minor": 2
}
