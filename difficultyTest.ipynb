{
  "cells": [
    {
      "cell_type": "markdown",
      "metadata": {},
      "source": [
        "# ROUGE for difficulty "
      ]
    },
    {
      "cell_type": "code",
      "execution_count": 16,
      "metadata": {
        "gather": {
          "logged": 1690987385591
        }
      },
      "outputs": [],
      "source": [
        "import gpt\n",
        "from utils import get_examples\n",
        "import pandas as pd\n",
        "import numpy as np\n",
        "import json"
      ]
    },
    {
      "cell_type": "code",
      "execution_count": 17,
      "metadata": {},
      "outputs": [],
      "source": [
        "g = gpt.Gpt()\n",
        "\n",
        "base_path = \"results/\" + g.chat_model + \"/\"\n",
        "baseline_df = pd.read_csv(base_path + \"baseline.csv\")"
      ]
    },
    {
      "cell_type": "code",
      "execution_count": 18,
      "metadata": {},
      "outputs": [],
      "source": [
        "titles = baseline_df[\"title\"].unique()\n",
        "\n",
        "dataframes = []\n",
        "\n",
        "for title in titles:\n",
        "    title_df = baseline_df[baseline_df[\"title\"] == title]\n",
        "    dataframes.append(title_df)"
      ]
    },
    {
      "cell_type": "code",
      "execution_count": 19,
      "metadata": {
        "jupyter": {
          "outputs_hidden": false,
          "source_hidden": false
        },
        "nteract": {
          "transient": {
            "deleting": false
          }
        }
      },
      "outputs": [],
      "source": [
        "r1 = []\n",
        "r2 = []\n",
        "rL = []\n",
        "\n",
        "for df in dataframes:\n",
        "    pre_r1 = []\n",
        "    pre_r2 = []\n",
        "    pre_rL = []\n",
        "    for i, row in df.iterrows():\n",
        "        pre_r1.append(np.mean(json.loads(row[\"rogue_1\"])))\n",
        "        pre_r2.append(np.mean(json.loads(row[\"rogue_2\"])))\n",
        "        pre_rL.append(np.mean(json.loads(row[\"rogue_L\"])))\n",
        "    r1.append(np.mean(pre_r1))\n",
        "    r2.append(np.mean(pre_r2))\n",
        "    rL.append(np.mean(pre_rL))"
      ]
    },
    {
      "cell_type": "markdown",
      "metadata": {},
      "source": [
        "#### ROUGE-1 scores"
      ]
    },
    {
      "cell_type": "code",
      "execution_count": 31,
      "metadata": {
        "jupyter": {
          "outputs_hidden": false,
          "source_hidden": false
        },
        "nteract": {
          "transient": {
            "deleting": false
          }
        }
      },
      "outputs": [
        {
          "name": "stdout",
          "output_type": "stream",
          "text": [
            "13: Who are you, really? The puzzle of personality 0.272\n",
            "9: Pussy Riot's powerful message to Vladimir Putin 0.279\n",
            "5: Animal tales from icy wonderlands 0.3\n",
            "8: Our dangerous obsession with perfectionism is getting worse 0.318\n",
            "14: Augmented-reality maps 0.339\n",
            "3: AI isn't as smart as you think -- but it could be 0.357\n",
            "7: How whistle-blowers shape history 0.365\n",
            "6: How online abuse of women has spiraled out of control 0.373\n",
            "11: What's next in 3D printing 0.377\n",
            "4: What if buildings created energy instead of consuming it? 0.383\n",
            "12: What I learned from 2,000 obituaries 0.388\n",
            "15: Be humble -- and other lessons from the philosophy of water 0.39\n",
            "10: Shape-shifting tech will change work as we know it 0.413\n",
            "2: Teachers need real feedback 0.416\n",
            "1: How AI could empower any business 0.457\n",
            "\\begin{tabular}{llr}\n",
            " & talk & score \\\\\n",
            "0 & 13: Who are you, really? The puzzle of personality & 0.272000 \\\\\n",
            "1 & 9: Pussy Riot's powerful message to Vladimir Putin & 0.279000 \\\\\n",
            "2 & 5: Animal tales from icy wonderlands & 0.300000 \\\\\n",
            "3 & 8: Our dangerous obsession with perfectionism is getting worse & 0.318000 \\\\\n",
            "4 & 14: Augmented-reality maps & 0.339000 \\\\\n",
            "5 & 3: AI isn't as smart as you think -- but it could be & 0.357000 \\\\\n",
            "6 & 7: How whistle-blowers shape history & 0.365000 \\\\\n",
            "7 & 6: How online abuse of women has spiraled out of control & 0.373000 \\\\\n",
            "8 & 11: What's next in 3D printing & 0.377000 \\\\\n",
            "9 & 4: What if buildings created energy instead of consuming it? & 0.383000 \\\\\n",
            "10 & 12: What I learned from 2,000 obituaries & 0.388000 \\\\\n",
            "11 & 15: Be humble -- and other lessons from the philosophy of water & 0.390000 \\\\\n",
            "12 & 10: Shape-shifting tech will change work as we know it & 0.413000 \\\\\n",
            "13 & 2: Teachers need real feedback & 0.416000 \\\\\n",
            "14 & 1: How AI could empower any business & 0.457000 \\\\\n",
            "\\end{tabular}\n",
            "\n"
          ]
        }
      ],
      "source": [
        "def rouge_scores(titles, scores):\n",
        "    dic = {}\n",
        "    for i in range(len(titles)):\n",
        "        dic.update({str(i+1) + \": \" + titles[i]: round(scores[i], 3)})\n",
        "    sorted_dic = dict(sorted(dic.items(), key=lambda item: item[1]))\n",
        "    for key, value in sorted_dic.items():\n",
        "        print(key, value)\n",
        "    df = pd.DataFrame(sorted_dic.items(), columns=['talk', 'score'])\n",
        "    return df\n",
        "\n",
        "df = rouge_scores(titles, r1)\n",
        "print(df.style.to_latex())"
      ]
    },
    {
      "cell_type": "code",
      "execution_count": 35,
      "metadata": {
        "jupyter": {
          "outputs_hidden": false,
          "source_hidden": false
        },
        "nteract": {
          "transient": {
            "deleting": false
          }
        }
      },
      "outputs": [
        {
          "name": "stdout",
          "output_type": "stream",
          "text": [
            "9: Pussy Riot's powerful message to Vladimir Putin 0.047\n",
            "13: Who are you, really? The puzzle of personality 0.056\n",
            "8: Our dangerous obsession with perfectionism is getting worse 0.066\n",
            "10: Shape-shifting tech will change work as we know it 0.078\n",
            "14: Augmented-reality maps 0.083\n",
            "5: Animal tales from icy wonderlands 0.096\n",
            "12: What I learned from 2,000 obituaries 0.096\n",
            "3: AI isn't as smart as you think -- but it could be 0.098\n",
            "4: What if buildings created energy instead of consuming it? 0.099\n",
            "15: Be humble -- and other lessons from the philosophy of water 0.099\n",
            "2: Teachers need real feedback 0.1\n",
            "7: How whistle-blowers shape history 0.101\n",
            "11: What's next in 3D printing 0.112\n",
            "6: How online abuse of women has spiraled out of control 0.137\n",
            "1: How AI could empower any business 0.15\n",
            "\\begin{tabular}{llr}\n",
            "\\toprule\n",
            "{} &                                               talk &  score \\\\\n",
            "\\midrule\n",
            "0  &  13: Who are you, really? The puzzle of persona... &  0.272 \\\\\n",
            "1  &  9: Pussy Riot's powerful message to Vladimir P... &  0.279 \\\\\n",
            "2  &               5: Animal tales from icy wonderlands &  0.300 \\\\\n",
            "3  &  8: Our dangerous obsession with perfectionism ... &  0.318 \\\\\n",
            "4  &                         14: Augmented-reality maps &  0.339 \\\\\n",
            "5  &  3: AI isn't as smart as you think -- but it co... &  0.357 \\\\\n",
            "6  &               7: How whistle-blowers shape history &  0.365 \\\\\n",
            "7  &  6: How online abuse of women has spiraled out ... &  0.373 \\\\\n",
            "8  &                     11: What's next in 3D printing &  0.377 \\\\\n",
            "9  &  4: What if buildings created energy instead of... &  0.383 \\\\\n",
            "10 &           12: What I learned from 2,000 obituaries &  0.388 \\\\\n",
            "11 &  15: Be humble -- and other lessons from the ph... &  0.390 \\\\\n",
            "12 &  10: Shape-shifting tech will change work as we... &  0.413 \\\\\n",
            "13 &                     2: Teachers need real feedback &  0.416 \\\\\n",
            "14 &               1: How AI could empower any business &  0.457 \\\\\n",
            "\\bottomrule\n",
            "\\end{tabular}\n",
            "\n"
          ]
        },
        {
          "name": "stderr",
          "output_type": "stream",
          "text": [
            "C:\\Users\\Erlend\\AppData\\Local\\Temp\\ipykernel_20400\\664745322.py:2: FutureWarning: In future versions `DataFrame.to_latex` is expected to utilise the base implementation of `Styler.to_latex` for formatting and rendering. The arguments signature may therefore change. It is recommended instead to use `DataFrame.style.to_latex` which also contains additional functionality.\n",
            "  print(df.to_latex())\n"
          ]
        }
      ],
      "source": [
        "df2 = rouge_scores(titles, r2)\n",
        "print(df.to_latex())"
      ]
    },
    {
      "cell_type": "code",
      "execution_count": 37,
      "metadata": {},
      "outputs": [
        {
          "name": "stdout",
          "output_type": "stream",
          "text": [
            "9: Pussy Riot's powerful message to Vladimir Putin 0.165\n",
            "13: Who are you, really? The puzzle of personality 0.184\n",
            "5: Animal tales from icy wonderlands 0.208\n",
            "8: Our dangerous obsession with perfectionism is getting worse 0.209\n",
            "14: Augmented-reality maps 0.217\n",
            "7: How whistle-blowers shape history 0.24\n",
            "4: What if buildings created energy instead of consuming it? 0.243\n",
            "11: What's next in 3D printing 0.244\n",
            "3: AI isn't as smart as you think -- but it could be 0.251\n",
            "12: What I learned from 2,000 obituaries 0.254\n",
            "6: How online abuse of women has spiraled out of control 0.258\n",
            "10: Shape-shifting tech will change work as we know it 0.27\n",
            "2: Teachers need real feedback 0.271\n",
            "15: Be humble -- and other lessons from the philosophy of water 0.271\n",
            "1: How AI could empower any business 0.273\n",
            "\\begin{tabular}{llr}\n",
            "\\toprule\n",
            "{} &                                               talk &  score \\\\\n",
            "\\midrule\n",
            "0  &  13: Who are you, really? The puzzle of persona... &  0.272 \\\\\n",
            "1  &  9: Pussy Riot's powerful message to Vladimir P... &  0.279 \\\\\n",
            "2  &               5: Animal tales from icy wonderlands &  0.300 \\\\\n",
            "3  &  8: Our dangerous obsession with perfectionism ... &  0.318 \\\\\n",
            "4  &                         14: Augmented-reality maps &  0.339 \\\\\n",
            "5  &  3: AI isn't as smart as you think -- but it co... &  0.357 \\\\\n",
            "6  &               7: How whistle-blowers shape history &  0.365 \\\\\n",
            "7  &  6: How online abuse of women has spiraled out ... &  0.373 \\\\\n",
            "8  &                     11: What's next in 3D printing &  0.377 \\\\\n",
            "9  &  4: What if buildings created energy instead of... &  0.383 \\\\\n",
            "10 &           12: What I learned from 2,000 obituaries &  0.388 \\\\\n",
            "11 &  15: Be humble -- and other lessons from the ph... &  0.390 \\\\\n",
            "12 &  10: Shape-shifting tech will change work as we... &  0.413 \\\\\n",
            "13 &                     2: Teachers need real feedback &  0.416 \\\\\n",
            "14 &               1: How AI could empower any business &  0.457 \\\\\n",
            "\\bottomrule\n",
            "\\end{tabular}\n",
            "\n"
          ]
        },
        {
          "name": "stderr",
          "output_type": "stream",
          "text": [
            "C:\\Users\\Erlend\\AppData\\Local\\Temp\\ipykernel_20400\\529591625.py:2: FutureWarning: In future versions `DataFrame.to_latex` is expected to utilise the base implementation of `Styler.to_latex` for formatting and rendering. The arguments signature may therefore change. It is recommended instead to use `DataFrame.style.to_latex` which also contains additional functionality.\n",
            "  print(df.to_latex())\n"
          ]
        }
      ],
      "source": [
        "dfL = rouge_scores(titles, rL)\n",
        "print(df.to_latex())"
      ]
    },
    {
      "cell_type": "code",
      "execution_count": null,
      "metadata": {},
      "outputs": [],
      "source": []
    }
  ],
  "metadata": {
    "kernel_info": {
      "name": "python3"
    },
    "kernelspec": {
      "display_name": "Python 3 (ipykernel)",
      "language": "python",
      "name": "python3"
    },
    "language_info": {
      "codemirror_mode": {
        "name": "ipython",
        "version": 3
      },
      "file_extension": ".py",
      "mimetype": "text/x-python",
      "name": "python",
      "nbconvert_exporter": "python",
      "pygments_lexer": "ipython3",
      "version": "3.10.11"
    },
    "microsoft": {
      "ms_spell_check": {
        "ms_spell_check_language": "en"
      }
    },
    "nteract": {
      "version": "nteract-front-end@1.0.0"
    },
    "orig_nbformat": 4
  },
  "nbformat": 4,
  "nbformat_minor": 2
}
