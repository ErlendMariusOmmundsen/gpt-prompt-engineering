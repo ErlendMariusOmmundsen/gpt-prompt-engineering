{
  "cells": [
    {
      "cell_type": "markdown",
      "metadata": {},
      "source": [
        "# ROUGE for difficulty "
      ]
    },
    {
      "cell_type": "code",
      "execution_count": 8,
      "metadata": {
        "gather": {
          "logged": 1690987385591
        }
      },
      "outputs": [],
      "source": [
        "import gpt\n",
        "from utils import get_examples\n",
        "import pandas as pd\n",
        "import numpy as np\n",
        "import json"
      ]
    },
    {
      "cell_type": "code",
      "execution_count": 9,
      "metadata": {},
      "outputs": [],
      "source": [
        "g = gpt.Gpt()\n",
        "\n",
        "base_path = \"results/\" + g.chat_model + \"/\"\n",
        "baseline_df = pd.read_csv(base_path + \"baseline.csv\")"
      ]
    },
    {
      "cell_type": "code",
      "execution_count": 10,
      "metadata": {},
      "outputs": [],
      "source": [
        "titles = baseline_df[\"title\"].unique()\n",
        "\n",
        "dataframes = []\n",
        "\n",
        "for title in titles:\n",
        "    title_df = baseline_df[baseline_df[\"title\"] == title]\n",
        "    dataframes.append(title_df)"
      ]
    },
    {
      "cell_type": "code",
      "execution_count": 11,
      "metadata": {
        "jupyter": {
          "outputs_hidden": false,
          "source_hidden": false
        },
        "nteract": {
          "transient": {
            "deleting": false
          }
        }
      },
      "outputs": [],
      "source": [
        "r1 = []\n",
        "r2 = []\n",
        "rL = []\n",
        "\n",
        "for df in dataframes:\n",
        "    pre_r1 = []\n",
        "    pre_r2 = []\n",
        "    pre_rL = []\n",
        "    for i, row in df.iterrows():\n",
        "        pre_r1.append(np.mean(json.loads(row[\"rogue_1\"])))\n",
        "        pre_r2.append(np.mean(json.loads(row[\"rogue_2\"])))\n",
        "        pre_rL.append(np.mean(json.loads(row[\"rogue_L\"])))\n",
        "    r1.append(np.mean(pre_r1))\n",
        "    r2.append(np.mean(pre_r2))\n",
        "    rL.append(np.mean(pre_rL))"
      ]
    },
    {
      "cell_type": "markdown",
      "metadata": {},
      "source": [
        "#### ROUGE-1 scores"
      ]
    },
    {
      "cell_type": "code",
      "execution_count": 20,
      "metadata": {
        "jupyter": {
          "outputs_hidden": false,
          "source_hidden": false
        },
        "nteract": {
          "transient": {
            "deleting": false
          }
        }
      },
      "outputs": [
        {
          "name": "stdout",
          "output_type": "stream",
          "text": [
            "\\begin{tabular}{llr}\n",
            " & talk & score \\\\\n",
            "0 & 13: Who are you, really? The puzzle of personality & 0.272000 \\\\\n",
            "1 & 9: Pussy Riot's powerful message to Vladimir Putin & 0.279000 \\\\\n",
            "2 & 5: Animal tales from icy wonderlands & 0.300000 \\\\\n",
            "3 & 8: Our dangerous obsession with perfectionism is getting worse & 0.318000 \\\\\n",
            "4 & 14: Augmented-reality maps & 0.339000 \\\\\n",
            "5 & 3: AI isn't as smart as you think -- but it could be & 0.357000 \\\\\n",
            "6 & 7: How whistle-blowers shape history & 0.365000 \\\\\n",
            "7 & 6: How online abuse of women has spiraled out of control & 0.373000 \\\\\n",
            "8 & 11: What's next in 3D printing & 0.377000 \\\\\n",
            "9 & 4: What if buildings created energy instead of consuming it? & 0.383000 \\\\\n",
            "10 & 12: What I learned from 2,000 obituaries & 0.388000 \\\\\n",
            "11 & 15: Be humble -- and other lessons from the philosophy of water & 0.390000 \\\\\n",
            "12 & 10: Shape-shifting tech will change work as we know it & 0.413000 \\\\\n",
            "13 & 2: Teachers need real feedback & 0.416000 \\\\\n",
            "14 & 1: How AI could empower any business & 0.457000 \\\\\n",
            "\\end{tabular}\n",
            "\n"
          ]
        }
      ],
      "source": [
        "def rouge_scores(titles, scores):\n",
        "    dic = {}\n",
        "    for i in range(len(titles)):\n",
        "        dic.update({str(i+1) + \": \" + titles[i]: round(scores[i], 3)})\n",
        "    sorted_dic = dict(sorted(dic.items(), key=lambda item: item[1]))\n",
        "    df = pd.DataFrame(sorted_dic.items(), columns=['talk', 'score'])\n",
        "    return df\n",
        "\n",
        "df = rouge_scores(titles, r1)\n",
        "print(df.style.to_latex())"
      ]
    },
    {
      "cell_type": "code",
      "execution_count": 21,
      "metadata": {
        "jupyter": {
          "outputs_hidden": false,
          "source_hidden": false
        },
        "nteract": {
          "transient": {
            "deleting": false
          }
        }
      },
      "outputs": [
        {
          "name": "stdout",
          "output_type": "stream",
          "text": [
            "\\begin{tabular}{llr}\n",
            " & talk & score \\\\\n",
            "0 & 9: Pussy Riot's powerful message to Vladimir Putin & 0.047000 \\\\\n",
            "1 & 13: Who are you, really? The puzzle of personality & 0.056000 \\\\\n",
            "2 & 8: Our dangerous obsession with perfectionism is getting worse & 0.066000 \\\\\n",
            "3 & 10: Shape-shifting tech will change work as we know it & 0.078000 \\\\\n",
            "4 & 14: Augmented-reality maps & 0.083000 \\\\\n",
            "5 & 5: Animal tales from icy wonderlands & 0.096000 \\\\\n",
            "6 & 12: What I learned from 2,000 obituaries & 0.096000 \\\\\n",
            "7 & 3: AI isn't as smart as you think -- but it could be & 0.098000 \\\\\n",
            "8 & 4: What if buildings created energy instead of consuming it? & 0.099000 \\\\\n",
            "9 & 15: Be humble -- and other lessons from the philosophy of water & 0.099000 \\\\\n",
            "10 & 2: Teachers need real feedback & 0.100000 \\\\\n",
            "11 & 7: How whistle-blowers shape history & 0.101000 \\\\\n",
            "12 & 11: What's next in 3D printing & 0.112000 \\\\\n",
            "13 & 6: How online abuse of women has spiraled out of control & 0.137000 \\\\\n",
            "14 & 1: How AI could empower any business & 0.150000 \\\\\n",
            "\\end{tabular}\n",
            "\n"
          ]
        }
      ],
      "source": [
        "df2 = rouge_scores(titles, r2)\n",
        "print(df2.style.to_latex())"
      ]
    },
    {
      "cell_type": "code",
      "execution_count": 22,
      "metadata": {},
      "outputs": [
        {
          "name": "stdout",
          "output_type": "stream",
          "text": [
            "\\begin{tabular}{llr}\n",
            " & talk & score \\\\\n",
            "0 & 9: Pussy Riot's powerful message to Vladimir Putin & 0.165000 \\\\\n",
            "1 & 13: Who are you, really? The puzzle of personality & 0.184000 \\\\\n",
            "2 & 5: Animal tales from icy wonderlands & 0.208000 \\\\\n",
            "3 & 8: Our dangerous obsession with perfectionism is getting worse & 0.209000 \\\\\n",
            "4 & 14: Augmented-reality maps & 0.217000 \\\\\n",
            "5 & 7: How whistle-blowers shape history & 0.240000 \\\\\n",
            "6 & 4: What if buildings created energy instead of consuming it? & 0.243000 \\\\\n",
            "7 & 11: What's next in 3D printing & 0.244000 \\\\\n",
            "8 & 3: AI isn't as smart as you think -- but it could be & 0.251000 \\\\\n",
            "9 & 12: What I learned from 2,000 obituaries & 0.254000 \\\\\n",
            "10 & 6: How online abuse of women has spiraled out of control & 0.258000 \\\\\n",
            "11 & 10: Shape-shifting tech will change work as we know it & 0.270000 \\\\\n",
            "12 & 2: Teachers need real feedback & 0.271000 \\\\\n",
            "13 & 15: Be humble -- and other lessons from the philosophy of water & 0.271000 \\\\\n",
            "14 & 1: How AI could empower any business & 0.273000 \\\\\n",
            "\\end{tabular}\n",
            "\n"
          ]
        }
      ],
      "source": [
        "dfL = rouge_scores(titles, rL)\n",
        "print(dfL.style.to_latex())"
      ]
    },
    {
      "cell_type": "code",
      "execution_count": null,
      "metadata": {},
      "outputs": [],
      "source": []
    },
    {
      "cell_type": "code",
      "execution_count": null,
      "metadata": {},
      "outputs": [],
      "source": []
    }
  ],
  "metadata": {
    "kernel_info": {
      "name": "python3"
    },
    "kernelspec": {
      "display_name": "Python 3 (ipykernel)",
      "language": "python",
      "name": "python3"
    },
    "language_info": {
      "codemirror_mode": {
        "name": "ipython",
        "version": 3
      },
      "file_extension": ".py",
      "mimetype": "text/x-python",
      "name": "python",
      "nbconvert_exporter": "python",
      "pygments_lexer": "ipython3",
      "version": "3.10.12"
    },
    "microsoft": {
      "ms_spell_check": {
        "ms_spell_check_language": "en"
      }
    },
    "nteract": {
      "version": "nteract-front-end@1.0.0"
    },
    "orig_nbformat": 4
  },
  "nbformat": 4,
  "nbformat_minor": 2
}
