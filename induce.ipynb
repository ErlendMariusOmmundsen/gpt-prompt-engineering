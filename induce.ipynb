{
  "cells": [
    {
      "cell_type": "code",
      "execution_count": 36,
      "metadata": {
        "gather": {
          "logged": 1687457664179
        }
      },
      "outputs": [],
      "source": [
        "import pandas as pd\n",
        "from insight_utils import bar_groups_chart, box_plot\n",
        "from constants import FORMAT_MODIFIERS, DENSENESS_MODIFIERS, DENSENESS_MODIFIERS, QUALITY_MODIFIERS, STRUCTURE_MODIFIERS\n",
        "\n",
        "modifiers_path = \"results/modifiers/gpt-3.5-turbo-16k/\"\n",
        "results_path = \"results/gpt-3.5-turbo-16k/\"\n",
        "induce_df = pd.read_csv(results_path + \"induce.csv\")"
      ]
    },
    {
      "cell_type": "markdown",
      "metadata": {
        "nteract": {
          "transient": {
            "deleting": false
          }
        }
      },
      "source": [
        "#### Format"
      ]
    },
    {
      "cell_type": "code",
      "execution_count": 37,
      "metadata": {
        "gather": {
          "logged": 1687457664855
        },
        "jupyter": {
          "outputs_hidden": false,
          "source_hidden": false
        },
        "nteract": {
          "transient": {
            "deleting": false
          }
        }
      },
      "outputs": [
        {
          "data": {
            "text/html": [
              "<div>\n",
              "<style scoped>\n",
              "    .dataframe tbody tr th:only-of-type {\n",
              "        vertical-align: middle;\n",
              "    }\n",
              "\n",
              "    .dataframe tbody tr th {\n",
              "        vertical-align: top;\n",
              "    }\n",
              "\n",
              "    .dataframe thead th {\n",
              "        text-align: right;\n",
              "    }\n",
              "</style>\n",
              "<table border=\"1\" class=\"dataframe\">\n",
              "  <thead>\n",
              "    <tr style=\"text-align: right;\">\n",
              "      <th></th>\n",
              "      <th>prompt_template</th>\n",
              "      <th>examples</th>\n",
              "      <th>num_examples</th>\n",
              "      <th>text</th>\n",
              "      <th>title</th>\n",
              "      <th>prompt</th>\n",
              "      <th>prediction</th>\n",
              "      <th>finish_reason</th>\n",
              "      <th>bert_score</th>\n",
              "      <th>rogue_1</th>\n",
              "      <th>...</th>\n",
              "      <th>neutral_contradiction_ratio</th>\n",
              "      <th>number_hallucinations</th>\n",
              "      <th>three_by_three</th>\n",
              "      <th>long_subheadings</th>\n",
              "      <th>long_bullets</th>\n",
              "      <th>geval_fluency</th>\n",
              "      <th>geval_relevance</th>\n",
              "      <th>geval_coherence</th>\n",
              "      <th>geval_consistency</th>\n",
              "      <th>config</th>\n",
              "    </tr>\n",
              "  </thead>\n",
              "  <tbody>\n",
              "    <tr>\n",
              "      <th>0</th>\n",
              "      <td>${Context_setter} *sep* ${example_pairs} *sep*...</td>\n",
              "      <td>[['Everyone needs a coach. It doesn\\'t matter ...</td>\n",
              "      <td>1</td>\n",
              "      <td>NaN</td>\n",
              "      <td>How AI could empower any business</td>\n",
              "      <td>user:\\nI gave a friend an instruction and some...</td>\n",
              "      <td>Summarize the main points of the input-output ...</td>\n",
              "      <td>stop</td>\n",
              "      <td>[]</td>\n",
              "      <td>[]</td>\n",
              "      <td>...</td>\n",
              "      <td>0.0</td>\n",
              "      <td>0</td>\n",
              "      <td>0</td>\n",
              "      <td>0</td>\n",
              "      <td>0</td>\n",
              "      <td>0.0</td>\n",
              "      <td>0.0</td>\n",
              "      <td>0.0</td>\n",
              "      <td>0.0</td>\n",
              "      <td>{'model': 'gpt-3.5-turbo-16k', 'suffix': '', '...</td>\n",
              "    </tr>\n",
              "    <tr>\n",
              "      <th>1</th>\n",
              "      <td>${Context_setter} *sep* ${example_pairs} *sep*...</td>\n",
              "      <td>[['When I think about the rise of AI, I\\'m rem...</td>\n",
              "      <td>1</td>\n",
              "      <td>NaN</td>\n",
              "      <td>Teachers need real feedback</td>\n",
              "      <td>user:\\nI gave a friend an instruction and some...</td>\n",
              "      <td>Analyze the input-output pairs and summarize t...</td>\n",
              "      <td>stop</td>\n",
              "      <td>[]</td>\n",
              "      <td>[]</td>\n",
              "      <td>...</td>\n",
              "      <td>0.0</td>\n",
              "      <td>0</td>\n",
              "      <td>0</td>\n",
              "      <td>0</td>\n",
              "      <td>0</td>\n",
              "      <td>0.0</td>\n",
              "      <td>0.0</td>\n",
              "      <td>0.0</td>\n",
              "      <td>0.0</td>\n",
              "      <td>{'model': 'gpt-3.5-turbo-16k', 'suffix': '', '...</td>\n",
              "    </tr>\n",
              "    <tr>\n",
              "      <th>2</th>\n",
              "      <td>${Context_setter} *sep* ${example_pairs} *sep*...</td>\n",
              "      <td>[['When I think about the rise of AI, I\\'m rem...</td>\n",
              "      <td>1</td>\n",
              "      <td>NaN</td>\n",
              "      <td>AI isn't as smart as you think -- but it could be</td>\n",
              "      <td>user:\\nI gave a friend an instruction and some...</td>\n",
              "      <td>Analyze the input-output pairs and summarize t...</td>\n",
              "      <td>stop</td>\n",
              "      <td>[]</td>\n",
              "      <td>[]</td>\n",
              "      <td>...</td>\n",
              "      <td>0.0</td>\n",
              "      <td>0</td>\n",
              "      <td>0</td>\n",
              "      <td>0</td>\n",
              "      <td>0</td>\n",
              "      <td>0.0</td>\n",
              "      <td>0.0</td>\n",
              "      <td>0.0</td>\n",
              "      <td>0.0</td>\n",
              "      <td>{'model': 'gpt-3.5-turbo-16k', 'suffix': '', '...</td>\n",
              "    </tr>\n",
              "    <tr>\n",
              "      <th>3</th>\n",
              "      <td>${Context_setter} *sep* ${example_pairs} *sep*...</td>\n",
              "      <td>[['When I think about the rise of AI, I\\'m rem...</td>\n",
              "      <td>1</td>\n",
              "      <td>NaN</td>\n",
              "      <td>What if buildings created energy instead of co...</td>\n",
              "      <td>user:\\nI gave a friend an instruction and some...</td>\n",
              "      <td>Analyze the input-output pairs and summarize t...</td>\n",
              "      <td>stop</td>\n",
              "      <td>[]</td>\n",
              "      <td>[]</td>\n",
              "      <td>...</td>\n",
              "      <td>0.0</td>\n",
              "      <td>0</td>\n",
              "      <td>0</td>\n",
              "      <td>0</td>\n",
              "      <td>0</td>\n",
              "      <td>0.0</td>\n",
              "      <td>0.0</td>\n",
              "      <td>0.0</td>\n",
              "      <td>0.0</td>\n",
              "      <td>{'model': 'gpt-3.5-turbo-16k', 'suffix': '', '...</td>\n",
              "    </tr>\n",
              "    <tr>\n",
              "      <th>4</th>\n",
              "      <td>${Context_setter} *sep* ${example_pairs} *sep*...</td>\n",
              "      <td>[['When I think about the rise of AI, I\\'m rem...</td>\n",
              "      <td>1</td>\n",
              "      <td>NaN</td>\n",
              "      <td>Animal tales from icy wonderlands</td>\n",
              "      <td>user:\\nI gave a friend an instruction and some...</td>\n",
              "      <td>Analyze the input-output pairs and summarize t...</td>\n",
              "      <td>stop</td>\n",
              "      <td>[]</td>\n",
              "      <td>[]</td>\n",
              "      <td>...</td>\n",
              "      <td>0.0</td>\n",
              "      <td>0</td>\n",
              "      <td>0</td>\n",
              "      <td>0</td>\n",
              "      <td>0</td>\n",
              "      <td>0.0</td>\n",
              "      <td>0.0</td>\n",
              "      <td>0.0</td>\n",
              "      <td>0.0</td>\n",
              "      <td>{'model': 'gpt-3.5-turbo-16k', 'suffix': '', '...</td>\n",
              "    </tr>\n",
              "  </tbody>\n",
              "</table>\n",
              "<p>5 rows × 26 columns</p>\n",
              "</div>"
            ],
            "text/plain": [
              "                                     prompt_template  \\\n",
              "0  ${Context_setter} *sep* ${example_pairs} *sep*...   \n",
              "1  ${Context_setter} *sep* ${example_pairs} *sep*...   \n",
              "2  ${Context_setter} *sep* ${example_pairs} *sep*...   \n",
              "3  ${Context_setter} *sep* ${example_pairs} *sep*...   \n",
              "4  ${Context_setter} *sep* ${example_pairs} *sep*...   \n",
              "\n",
              "                                            examples  num_examples  text  \\\n",
              "0  [['Everyone needs a coach. It doesn\\'t matter ...             1   NaN   \n",
              "1  [['When I think about the rise of AI, I\\'m rem...             1   NaN   \n",
              "2  [['When I think about the rise of AI, I\\'m rem...             1   NaN   \n",
              "3  [['When I think about the rise of AI, I\\'m rem...             1   NaN   \n",
              "4  [['When I think about the rise of AI, I\\'m rem...             1   NaN   \n",
              "\n",
              "                                               title  \\\n",
              "0                  How AI could empower any business   \n",
              "1                        Teachers need real feedback   \n",
              "2  AI isn't as smart as you think -- but it could be   \n",
              "3  What if buildings created energy instead of co...   \n",
              "4                  Animal tales from icy wonderlands   \n",
              "\n",
              "                                              prompt  \\\n",
              "0  user:\\nI gave a friend an instruction and some...   \n",
              "1  user:\\nI gave a friend an instruction and some...   \n",
              "2  user:\\nI gave a friend an instruction and some...   \n",
              "3  user:\\nI gave a friend an instruction and some...   \n",
              "4  user:\\nI gave a friend an instruction and some...   \n",
              "\n",
              "                                          prediction finish_reason bert_score  \\\n",
              "0  Summarize the main points of the input-output ...          stop         []   \n",
              "1  Analyze the input-output pairs and summarize t...          stop         []   \n",
              "2  Analyze the input-output pairs and summarize t...          stop         []   \n",
              "3  Analyze the input-output pairs and summarize t...          stop         []   \n",
              "4  Analyze the input-output pairs and summarize t...          stop         []   \n",
              "\n",
              "  rogue_1  ... neutral_contradiction_ratio number_hallucinations  \\\n",
              "0      []  ...                         0.0                     0   \n",
              "1      []  ...                         0.0                     0   \n",
              "2      []  ...                         0.0                     0   \n",
              "3      []  ...                         0.0                     0   \n",
              "4      []  ...                         0.0                     0   \n",
              "\n",
              "   three_by_three  long_subheadings  long_bullets  geval_fluency  \\\n",
              "0               0                 0             0            0.0   \n",
              "1               0                 0             0            0.0   \n",
              "2               0                 0             0            0.0   \n",
              "3               0                 0             0            0.0   \n",
              "4               0                 0             0            0.0   \n",
              "\n",
              "   geval_relevance  geval_coherence  geval_consistency  \\\n",
              "0              0.0              0.0                0.0   \n",
              "1              0.0              0.0                0.0   \n",
              "2              0.0              0.0                0.0   \n",
              "3              0.0              0.0                0.0   \n",
              "4              0.0              0.0                0.0   \n",
              "\n",
              "                                              config  \n",
              "0  {'model': 'gpt-3.5-turbo-16k', 'suffix': '', '...  \n",
              "1  {'model': 'gpt-3.5-turbo-16k', 'suffix': '', '...  \n",
              "2  {'model': 'gpt-3.5-turbo-16k', 'suffix': '', '...  \n",
              "3  {'model': 'gpt-3.5-turbo-16k', 'suffix': '', '...  \n",
              "4  {'model': 'gpt-3.5-turbo-16k', 'suffix': '', '...  \n",
              "\n",
              "[5 rows x 26 columns]"
            ]
          },
          "execution_count": 37,
          "metadata": {},
          "output_type": "execute_result"
        }
      ],
      "source": [
        "induce_df.head()"
      ]
    },
    {
      "cell_type": "code",
      "execution_count": 38,
      "metadata": {
        "gather": {
          "logged": 1687457665231
        },
        "jupyter": {
          "outputs_hidden": false,
          "source_hidden": false
        },
        "nteract": {
          "transient": {
            "deleting": false
          }
        }
      },
      "outputs": [
        {
          "name": "stdout",
          "output_type": "stream",
          "text": [
            "120\n"
          ]
        }
      ],
      "source": [
        "print(len(induce_df))"
      ]
    },
    {
      "cell_type": "code",
      "execution_count": 39,
      "metadata": {
        "gather": {
          "logged": 1687457666446
        },
        "jupyter": {
          "outputs_hidden": false,
          "source_hidden": false
        },
        "nteract": {
          "transient": {
            "deleting": false
          }
        }
      },
      "outputs": [
        {
          "data": {
            "text/html": [
              "<div>\n",
              "<style scoped>\n",
              "    .dataframe tbody tr th:only-of-type {\n",
              "        vertical-align: middle;\n",
              "    }\n",
              "\n",
              "    .dataframe tbody tr th {\n",
              "        vertical-align: top;\n",
              "    }\n",
              "\n",
              "    .dataframe thead th {\n",
              "        text-align: right;\n",
              "    }\n",
              "</style>\n",
              "<table border=\"1\" class=\"dataframe\">\n",
              "  <thead>\n",
              "    <tr style=\"text-align: right;\">\n",
              "      <th></th>\n",
              "      <th>num_examples</th>\n",
              "      <th>text</th>\n",
              "      <th>slor</th>\n",
              "      <th>avg_error_count_score</th>\n",
              "      <th>errors</th>\n",
              "      <th>contradiction_ratio</th>\n",
              "      <th>neutral_contradiction_ratio</th>\n",
              "      <th>number_hallucinations</th>\n",
              "      <th>three_by_three</th>\n",
              "      <th>long_subheadings</th>\n",
              "      <th>long_bullets</th>\n",
              "      <th>geval_fluency</th>\n",
              "      <th>geval_relevance</th>\n",
              "      <th>geval_coherence</th>\n",
              "      <th>geval_consistency</th>\n",
              "    </tr>\n",
              "  </thead>\n",
              "  <tbody>\n",
              "    <tr>\n",
              "      <th>count</th>\n",
              "      <td>120.000000</td>\n",
              "      <td>0.0</td>\n",
              "      <td>120.0</td>\n",
              "      <td>120.0</td>\n",
              "      <td>120.0</td>\n",
              "      <td>120.0</td>\n",
              "      <td>120.0</td>\n",
              "      <td>120.0</td>\n",
              "      <td>120.0</td>\n",
              "      <td>120.0</td>\n",
              "      <td>120.0</td>\n",
              "      <td>120.0</td>\n",
              "      <td>120.0</td>\n",
              "      <td>120.0</td>\n",
              "      <td>120.0</td>\n",
              "    </tr>\n",
              "    <tr>\n",
              "      <th>mean</th>\n",
              "      <td>6.750000</td>\n",
              "      <td>NaN</td>\n",
              "      <td>0.0</td>\n",
              "      <td>0.0</td>\n",
              "      <td>0.0</td>\n",
              "      <td>0.0</td>\n",
              "      <td>0.0</td>\n",
              "      <td>0.0</td>\n",
              "      <td>0.0</td>\n",
              "      <td>0.0</td>\n",
              "      <td>0.0</td>\n",
              "      <td>0.0</td>\n",
              "      <td>0.0</td>\n",
              "      <td>0.0</td>\n",
              "      <td>0.0</td>\n",
              "    </tr>\n",
              "    <tr>\n",
              "      <th>std</th>\n",
              "      <td>4.887387</td>\n",
              "      <td>NaN</td>\n",
              "      <td>0.0</td>\n",
              "      <td>0.0</td>\n",
              "      <td>0.0</td>\n",
              "      <td>0.0</td>\n",
              "      <td>0.0</td>\n",
              "      <td>0.0</td>\n",
              "      <td>0.0</td>\n",
              "      <td>0.0</td>\n",
              "      <td>0.0</td>\n",
              "      <td>0.0</td>\n",
              "      <td>0.0</td>\n",
              "      <td>0.0</td>\n",
              "      <td>0.0</td>\n",
              "    </tr>\n",
              "    <tr>\n",
              "      <th>min</th>\n",
              "      <td>1.000000</td>\n",
              "      <td>NaN</td>\n",
              "      <td>0.0</td>\n",
              "      <td>0.0</td>\n",
              "      <td>0.0</td>\n",
              "      <td>0.0</td>\n",
              "      <td>0.0</td>\n",
              "      <td>0.0</td>\n",
              "      <td>0.0</td>\n",
              "      <td>0.0</td>\n",
              "      <td>0.0</td>\n",
              "      <td>0.0</td>\n",
              "      <td>0.0</td>\n",
              "      <td>0.0</td>\n",
              "      <td>0.0</td>\n",
              "    </tr>\n",
              "    <tr>\n",
              "      <th>25%</th>\n",
              "      <td>3.250000</td>\n",
              "      <td>NaN</td>\n",
              "      <td>0.0</td>\n",
              "      <td>0.0</td>\n",
              "      <td>0.0</td>\n",
              "      <td>0.0</td>\n",
              "      <td>0.0</td>\n",
              "      <td>0.0</td>\n",
              "      <td>0.0</td>\n",
              "      <td>0.0</td>\n",
              "      <td>0.0</td>\n",
              "      <td>0.0</td>\n",
              "      <td>0.0</td>\n",
              "      <td>0.0</td>\n",
              "      <td>0.0</td>\n",
              "    </tr>\n",
              "    <tr>\n",
              "      <th>50%</th>\n",
              "      <td>6.000000</td>\n",
              "      <td>NaN</td>\n",
              "      <td>0.0</td>\n",
              "      <td>0.0</td>\n",
              "      <td>0.0</td>\n",
              "      <td>0.0</td>\n",
              "      <td>0.0</td>\n",
              "      <td>0.0</td>\n",
              "      <td>0.0</td>\n",
              "      <td>0.0</td>\n",
              "      <td>0.0</td>\n",
              "      <td>0.0</td>\n",
              "      <td>0.0</td>\n",
              "      <td>0.0</td>\n",
              "      <td>0.0</td>\n",
              "    </tr>\n",
              "    <tr>\n",
              "      <th>75%</th>\n",
              "      <td>9.500000</td>\n",
              "      <td>NaN</td>\n",
              "      <td>0.0</td>\n",
              "      <td>0.0</td>\n",
              "      <td>0.0</td>\n",
              "      <td>0.0</td>\n",
              "      <td>0.0</td>\n",
              "      <td>0.0</td>\n",
              "      <td>0.0</td>\n",
              "      <td>0.0</td>\n",
              "      <td>0.0</td>\n",
              "      <td>0.0</td>\n",
              "      <td>0.0</td>\n",
              "      <td>0.0</td>\n",
              "      <td>0.0</td>\n",
              "    </tr>\n",
              "    <tr>\n",
              "      <th>max</th>\n",
              "      <td>14.000000</td>\n",
              "      <td>NaN</td>\n",
              "      <td>0.0</td>\n",
              "      <td>0.0</td>\n",
              "      <td>0.0</td>\n",
              "      <td>0.0</td>\n",
              "      <td>0.0</td>\n",
              "      <td>0.0</td>\n",
              "      <td>0.0</td>\n",
              "      <td>0.0</td>\n",
              "      <td>0.0</td>\n",
              "      <td>0.0</td>\n",
              "      <td>0.0</td>\n",
              "      <td>0.0</td>\n",
              "      <td>0.0</td>\n",
              "    </tr>\n",
              "  </tbody>\n",
              "</table>\n",
              "</div>"
            ],
            "text/plain": [
              "       num_examples  text   slor  avg_error_count_score  errors  \\\n",
              "count    120.000000   0.0  120.0                  120.0   120.0   \n",
              "mean       6.750000   NaN    0.0                    0.0     0.0   \n",
              "std        4.887387   NaN    0.0                    0.0     0.0   \n",
              "min        1.000000   NaN    0.0                    0.0     0.0   \n",
              "25%        3.250000   NaN    0.0                    0.0     0.0   \n",
              "50%        6.000000   NaN    0.0                    0.0     0.0   \n",
              "75%        9.500000   NaN    0.0                    0.0     0.0   \n",
              "max       14.000000   NaN    0.0                    0.0     0.0   \n",
              "\n",
              "       contradiction_ratio  neutral_contradiction_ratio  \\\n",
              "count                120.0                        120.0   \n",
              "mean                   0.0                          0.0   \n",
              "std                    0.0                          0.0   \n",
              "min                    0.0                          0.0   \n",
              "25%                    0.0                          0.0   \n",
              "50%                    0.0                          0.0   \n",
              "75%                    0.0                          0.0   \n",
              "max                    0.0                          0.0   \n",
              "\n",
              "       number_hallucinations  three_by_three  long_subheadings  long_bullets  \\\n",
              "count                  120.0           120.0             120.0         120.0   \n",
              "mean                     0.0             0.0               0.0           0.0   \n",
              "std                      0.0             0.0               0.0           0.0   \n",
              "min                      0.0             0.0               0.0           0.0   \n",
              "25%                      0.0             0.0               0.0           0.0   \n",
              "50%                      0.0             0.0               0.0           0.0   \n",
              "75%                      0.0             0.0               0.0           0.0   \n",
              "max                      0.0             0.0               0.0           0.0   \n",
              "\n",
              "       geval_fluency  geval_relevance  geval_coherence  geval_consistency  \n",
              "count          120.0            120.0            120.0              120.0  \n",
              "mean             0.0              0.0              0.0                0.0  \n",
              "std              0.0              0.0              0.0                0.0  \n",
              "min              0.0              0.0              0.0                0.0  \n",
              "25%              0.0              0.0              0.0                0.0  \n",
              "50%              0.0              0.0              0.0                0.0  \n",
              "75%              0.0              0.0              0.0                0.0  \n",
              "max              0.0              0.0              0.0                0.0  "
            ]
          },
          "execution_count": 39,
          "metadata": {},
          "output_type": "execute_result"
        }
      ],
      "source": [
        "induce_df.describe()"
      ]
    },
    {
      "cell_type": "markdown",
      "metadata": {},
      "source": [
        "#### Split results by modifier into separate dataframes"
      ]
    },
    {
      "cell_type": "code",
      "execution_count": 40,
      "metadata": {
        "gather": {
          "logged": 1687458003447
        },
        "jupyter": {
          "outputs_hidden": false,
          "source_hidden": false
        },
        "nteract": {
          "transient": {
            "deleting": false
          }
        }
      },
      "outputs": [
        {
          "name": "stdout",
          "output_type": "stream",
          "text": [
            "2 runs for each transcript, no specific order\n"
          ]
        }
      ],
      "source": [
        "dataframes = []\n",
        "\n",
        "for num in [1,4, 8, 14]:\n",
        "    modifier_df = induce_df[induce_df[\"num_examples\"] == num]\n",
        "    dataframes.append(modifier_df)\n",
        "\n",
        "print(\"2 runs for each transcript, no specific order\")"
      ]
    },
    {
      "cell_type": "code",
      "execution_count": 41,
      "metadata": {},
      "outputs": [],
      "source": [
        "def print_unique_preds(df):\n",
        "    unique_preds = df[\"prediction\"].unique()\n",
        "    for pred in unique_preds:\n",
        "        print(pred.split(\"\\n\")[:3])"
      ]
    },
    {
      "cell_type": "markdown",
      "metadata": {},
      "source": [
        "#### One Example, with text"
      ]
    },
    {
      "cell_type": "code",
      "execution_count": 42,
      "metadata": {},
      "outputs": [
        {
          "name": "stdout",
          "output_type": "stream",
          "text": [
            "['Summarize the main points of the input-output pairs', 'Teachers Lack Feedback Systematically', '98% of teachers receive only one-word feedback, which is \"satisfactory\"']\n",
            "['Analyze the input-output pairs and summarize the main points discussed in the text']\n",
            "['Analyze the input-output pairs and summarize the main points discussed in the conversation about the rise of AI and the concentration of AI in big tech companies']\n",
            "['Analyze the input-output pairs and identify three main themes or ideas that are discussed in the text. For each theme, provide three supporting points or details from the text']\n",
            "['Summarize the main points of the input-output pairs', 'Teachers Lack Feedback Systematically', '98% of teachers receive only one-word feedback, which is \"satisfactory\"']\n",
            "['\"Summarize the main points discussed in the input and output pairs.\"']\n",
            "['Analyze the input-output pairs and identify three main themes or topics discussed in the text. For each theme, provide three supporting points from the text']\n",
            "['Explain the main points discussed in the input and output pairs']\n"
          ]
        }
      ],
      "source": [
        "print_unique_preds(dataframes[0])"
      ]
    },
    {
      "cell_type": "markdown",
      "metadata": {},
      "source": [
        "#### Four Examples with text"
      ]
    },
    {
      "cell_type": "code",
      "execution_count": 43,
      "metadata": {},
      "outputs": [
        {
          "name": "stdout",
          "output_type": "stream",
          "text": [
            "['Summarize the main points of each input-output pair', 'Input 1: Teachers Lack Feedback Systematically', '98% of teachers receive 1-word feedback']\n",
            "['Summarize the main points from each input and organize them into three subtitles, each with three bullet points', 'Here are the subtitles and bullet points for each input', 'Input 1: The Rise of AI']\n",
            "['Summarize the main points of the input and output pairs', 'The Rise of AI', 'AI is concentrated in big tech companies and controlled by highly skilled engineers']\n",
            "['Provide a summary of the input text by organizing the information into three main points, each with three supporting details']\n",
            "['Provide an overview of the input and highlight three main points or themes discussed in the text']\n",
            "['Provide an overview of the main points discussed in the input text']\n",
            "['\"Provide a summary of the input and highlight three key points in each subtitle.\"']\n",
            "['Provide a summary of the input and highlight three key points in each subtitle']\n",
            "['\"Summarize the main points of the input and organize them into three subtitles, each with three bullet points.\"']\n",
            "['\"Provide a summary of the input and output pairs.\"']\n",
            "['\"Summarize the main points of the given input.\"']\n",
            "['\"Provide an overview of the main points discussed in the input text.\"']\n",
            "['Provide an overview of the input and highlight three key points from each section']\n",
            "['Summarize the main points from each input-output pair', 'Input: Everyone needs a coach. It doesn\\'t matter whether you\\'re a basketball player, a tennis player, a gymnast or a bridge player. (Laughter) My bridge coach, Sharon Osberg, says there are more pictures of the back of her head than anyone else\\'s in the world. (Laughter) Sorry, Sharon. Here you go. We all need people who will give us feedback. That\\'s how we improve. Unfortunately, there\\'s one group of people who get almost no systematic feedback to help them do their jobs better, and these people have one of the most important jobs in the world. I\\'m talking about teachers. When Melinda and I learned how little useful feedback most teachers get, we were blown away. Until recently, over 98 percent of teachers just got one word of feedback: Satisfactory. If all my bridge coach ever told me was that I was \"satisfactory,\" I would have no hope of ever getting better. How would I know who was the best? How would I know what I was doing differently? Today, districts are revamping the way they evaluate teachers, but we still give them almost no feedback that actually helps them improve their practice. Our teachers deserve better. The system we have today isn\\'t fair to them. It\\'s not fair to students, and it\\'s putting America\\'s global leadership at risk. So today I want to talk about how we can help all teachers get the tools for improvement they want and deserve. Let\\'s start by asking who\\'s doing well. Well, unfortunately there\\'s no international ranking tables for teacher feedback systems. So I looked at the countries whose students perform well academically, and looked at what they\\'re doing to help their teachers improve. Consider the rankings for reading proficiency. The U.S. isn\\'t number one. We\\'re not even in the top 10. We\\'re tied for 15th with Iceland and Poland. Now, out of all the places that do better than the U.S. in reading, how many of them have a formal system for helping teachers improve? Eleven out of 14. The U.S. is tied for 15th in reading, but we\\'re 23rd in science and 31st in math. So there\\'s really only one area where we\\'re near the top, and that\\'s in failing to give our teachers the help they need to develop their skills. Let\\'s look at the best academic performer: the province of Shanghai, China. Now, they rank number one across the board, in reading, math and science, and one of the keys to Shanghai\\'s incredible success is the way they help teachers keep improving. They made sure that younger teachers get a chance to watch master teachers at work. They have weekly study groups, where teachers get together and talk about what\\'s working. They even require each teacher to observe and give feedback to their colleagues. You might ask, why is a system like this so important? It\\'s because there\\'s so much variation in the teaching profession. Some teachers are far more effective than others. In fact, there are teachers throughout the country who are helping their students make extraordinary gains. If today\\'s average teacher could become as good as those teachers, our students would be blowing away the rest of the world. So we need a system that helps all our teachers be as good as the best. What would that system look like? Well, to find out, our foundation has been working with 3,000 teachers in districts across the country on a project called Measures of Effective Teaching. We had observers watch videos of teachers in the classroom and rate how they did on a range of practices. For example, did they ask their students challenging questions? Did they find multiple ways to explain an idea? We also had students fill out surveys with questions like, \"Does your teacher know when the class understands a lesson?\" \"Do you learn to correct your mistakes?\" And what we found is very exciting. First, the teachers who did well on these observations had far better student outcomes. So it tells us we\\'re asking the right questions. And second, teachers in the program told us that these videos and these surveys from the students were very helpful diagnostic tools, because they pointed to specific places where they can improve. I want to show you what this video component of MET looks like in action. (Music) (Video) Sarah Brown Wessling: Good morning everybody. Let\\'s talk about what\\'s going on today. To get started, we\\'re doing a peer review day, okay? A peer review day, and our goal by the end of class is for you to be able to determine whether or not you have moves to prove in your essays. My name is Sarah Brown Wessling. I am a high school English teacher at Johnston High School in Johnston, Iowa. Turn to somebody next to you. Tell them what you think I mean when I talk about moves to prove. I\\'ve talk about -- I think that there is a difference for teachers between the abstract of how we see our practice and then the concrete reality of it. Okay, so I would like you to please bring up your papers. I think what video offers for us is a certain degree of reality. You can\\'t really dispute what you see on the video, and there is a lot to be learned from that, and there are a lot of ways that we can grow as a profession when we actually get to see this. I just have a flip camera and a little tripod and invested in this tiny little wide-angle lens. At the beginning of class, I just perch it in the back of the classroom. It\\'s not a perfect shot. It doesn\\'t catch every little thing that\\'s going on. But I can hear the sound. I can see a lot. And I\\'m able to learn a lot from it. So it really has been a simple but powerful tool in my own reflection. All right, let\\'s take a look at the long one first, okay? Once I\\'m finished taping, then I put it in my computer, and then I\\'ll scan it and take a peek at it. If I don\\'t write things down, I don\\'t remember them. So having the notes is a part of my thinking process, and I discover what I\\'m seeing as I\\'m writing. I really have used it for my own personal growth and my own personal reflection on teaching strategy and methodology and classroom management, and just all of those different facets of the classroom. I\\'m glad that we\\'ve actually done the process before so we can kind of compare what works, what doesn\\'t. I think that video exposes so much of what\\'s intrinsic to us as teachers in ways that help us learn and help us understand, and then help our broader communities understand what this complex work is really all about. I think it is a way to exemplify and illustrate things that we cannot convey in a lesson plan, things you cannot convey in a standard, things that you cannot even sometimes convey in a book of pedagogy. Alrighty, everybody, have a great weekend. I\\'ll see you later. [Every classroom could look like that] (Applause) Bill Gates: One day, we\\'d like every classroom in America to look something like that. But we still have more work to do. Diagnosing areas where a teacher needs to improve is only half the battle. We also have to give them the tools they need to act on the diagnosis. If you learn that you need to improve the way you teach fractions, you should be able to watch a video of the best person in the world teaching fractions. So building this complete teacher feedback and improvement system won\\'t be easy. For example, I know some teachers aren\\'t immediately comfortable with the idea of a camera in the classroom. That\\'s understandable, but our experience with MET suggests that if teachers manage the process, if they collect video in their own classrooms, and they pick the lessons they want to submit, a lot of them will be eager to participate. Building this system will also require a considerable investment. Our foundation estimates that it could cost up to five billion dollars. Now that\\'s a big number, but to put it in perspective, it\\'s less than two percent of what we spend every year on teacher salaries. The impact for teachers would be phenomenal. We would finally have a way to give them feedback, as well as the means to act on it. But this system would have an even more important benefit for our country. It would put us on a path to making sure all our students get a great education, find a career that\\'s fulfilling and rewarding, and have a chance to live out their dreams. This wouldn\\'t just make us a more successful country. It would also make us a more fair and just one, too. I\\'m excited about the opportunity to give all our teachers the support they want and deserve. I hope you are too. Thank you. (Applause)', 'Output']\n",
            "['\"Summarize the main points of the input and organize them into three subtitles, each with three bullet points.\"', 'Here is the summary organized into three subtitles with three bullet points each', 'The Importance of Buildings in the Energy System']\n",
            "['Summarize the main points of the input and organize them into three subtitles, each with three bullet points']\n",
            "['\"Provide a summary of the input and output pairs.\"', 'Here is a summary of the input and output pairs', 'The Rise of AI']\n",
            "['Write an output summarizing the main points of the input']\n",
            "['\"Provide a summary of the input-output pairs and organize them into three subtitles, each with three bullet points.\"']\n",
            "['\"Provide a summary of the main points in the given input.\"']\n",
            "['Provide an overview of the input text and summarize the main points in three subtitles, each with three bullet points']\n",
            "['\"Provide a summary of the input-output pairs.\"']\n",
            "['\"Provide a summary of the input text and organize it into three subtitles, each with three bullet points.\"']\n"
          ]
        }
      ],
      "source": [
        "print_unique_preds(dataframes[1])"
      ]
    },
    {
      "cell_type": "markdown",
      "metadata": {},
      "source": [
        "#### 8 Examples, only output"
      ]
    },
    {
      "cell_type": "code",
      "execution_count": 44,
      "metadata": {},
      "outputs": [
        {
          "name": "stdout",
          "output_type": "stream",
          "text": [
            "['Write an output for every one of the texts']\n",
            "['Read the texts and write an output for each one']\n",
            "['Read the instruction and write an output for each of the texts']\n",
            "['Read the instruction and write an output for every one of the texts']\n",
            "['Write an output for each of the texts, including three subtitles with three bullet points each']\n"
          ]
        }
      ],
      "source": [
        "print_unique_preds(dataframes[2])"
      ]
    },
    {
      "cell_type": "markdown",
      "metadata": {},
      "source": [
        "#### 14 Examples, only output"
      ]
    },
    {
      "cell_type": "code",
      "execution_count": 45,
      "metadata": {},
      "outputs": [
        {
          "name": "stdout",
          "output_type": "stream",
          "text": [
            "['Read the texts and write an output for each one']\n",
            "['Read the instruction and write an output for every one of the texts']\n",
            "['Write an output for every one of the texts, with three subtitles and three bullet points for each subtitle']\n",
            "['Write an output for every one of the texts']\n",
            "['Read the texts and write an output for each one, including three subtitles with three bullet points each']\n",
            "['Read the text and write an output with three subtitles, each with three bullet points']\n",
            "['Write an output for each of the texts, including three subtitles with three bullet points each']\n"
          ]
        }
      ],
      "source": [
        "print_unique_preds(dataframes[3])"
      ]
    },
    {
      "cell_type": "code",
      "execution_count": null,
      "metadata": {},
      "outputs": [],
      "source": []
    }
  ],
  "metadata": {
    "kernel_info": {
      "name": "python310-sdkv2"
    },
    "kernelspec": {
      "display_name": "thoth",
      "language": "python",
      "name": "python3"
    },
    "language_info": {
      "codemirror_mode": {
        "name": "ipython",
        "version": 3
      },
      "file_extension": ".py",
      "mimetype": "text/x-python",
      "name": "python",
      "nbconvert_exporter": "python",
      "pygments_lexer": "ipython3",
      "version": "3.10.11"
    },
    "microsoft": {
      "host": {
        "AzureML": {
          "notebookHasBeenCompleted": true
        }
      },
      "ms_spell_check": {
        "ms_spell_check_language": "en"
      }
    },
    "nteract": {
      "version": "nteract-front-end@1.0.0"
    }
  },
  "nbformat": 4,
  "nbformat_minor": 2
}
